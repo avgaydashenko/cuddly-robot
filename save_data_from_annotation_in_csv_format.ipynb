{
 "cells": [
  {
   "cell_type": "markdown",
   "metadata": {},
   "source": [
    "# Save data from folder Annotation in csv format"
   ]
  },
  {
   "cell_type": "markdown",
   "metadata": {},
   "source": [
    "Because data in Annotation folder in txt-files and '\\n'-separated it useful to save it to csv-format at once to make data loading and preprocessing a bit faster."
   ]
  },
  {
   "cell_type": "code",
   "execution_count": 1,
   "metadata": {
    "collapsed": true
   },
   "outputs": [],
   "source": [
    "import numpy as np\n",
    "import pandas as pd"
   ]
  },
  {
   "cell_type": "code",
   "execution_count": 2,
   "metadata": {
    "collapsed": true
   },
   "outputs": [],
   "source": [
    "# in annotation names of files look like \"000010.txt\"\n",
    "# so we need to adjust strings while converting them from floats\n",
    "ZERO_PADDING = 6\n",
    "NUMBER_OF_PEDESTRIANS = 12684\n",
    "\n",
    "def download_pedestrian(index):\n",
    "    error_message_template = \"Pedestrian number should be between 1 and {max}; given number: {id}\"\n",
    "    assert(1 <= index <= NUMBER_OF_PEDESTRIANS), error_message_template.format(max=NUMBER_OF_PEDESTRIANS, id=index)\n",
    "    filename = \"src/Annotation/{}.txt\".format(str(index).zfill(ZERO_PADDING))\n",
    "    x = []\n",
    "    y = []\n",
    "    time = []\n",
    "    with open(filename) as file:\n",
    "        for i, line in enumerate(file):\n",
    "            if i % 3 == 0: x.append(int(line))\n",
    "            elif i % 3 == 1: y.append(int(line))\n",
    "            elif i % 3 == 2: time.append(int(line))\n",
    "    data = pd.DataFrame({'X': pd.Series(x, index=time), 'Y': pd.Series(y, index=time)})\n",
    "    return data"
   ]
  },
  {
   "cell_type": "code",
   "execution_count": null,
   "metadata": {
    "collapsed": true
   },
   "outputs": [],
   "source": [
    "for i in range(12670, NUMBER_OF_PEDESTRIANS + 1):\n",
    "    data = download_pedestrian(i)\n",
    "    data.to_csv('src/Csv/{}.txt'.format(str(i).zfill(ZERO_PADDING)))"
   ]
  }
 ],
 "metadata": {
  "kernelspec": {
   "display_name": "Python 3",
   "language": "python",
   "name": "python3"
  },
  "language_info": {
   "codemirror_mode": {
    "name": "ipython",
    "version": 3
   },
   "file_extension": ".py",
   "mimetype": "text/x-python",
   "name": "python",
   "nbconvert_exporter": "python",
   "pygments_lexer": "ipython3",
   "version": "3.5.1"
  }
 },
 "nbformat": 4,
 "nbformat_minor": 0
}
