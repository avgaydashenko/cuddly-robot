{
 "cells": [
  {
   "cell_type": "markdown",
   "metadata": {},
   "source": [
    "# Simple baseline algorithm to get some start point"
   ]
  },
  {
   "cell_type": "code",
   "execution_count": 32,
   "metadata": {
    "collapsed": false
   },
   "outputs": [],
   "source": [
    "import numpy as np\n",
    "import pandas as pd\n",
    "import matplotlib.pyplot as plt\n",
    "\n",
    "%matplotlib inline\n",
    "\n",
    "plt.style.use('ggplot')\n",
    "plt.rcParams['figure.figsize'] = (15, 7)"
   ]
  },
  {
   "cell_type": "markdown",
   "metadata": {},
   "source": [
    "I got data from [here](http://www.ee.cuhk.edu.hk/~syi/). It includes folder Annotation (now Csv) (which consists of txt-file describing path for each of 12684 pedestrians) and folder Frame (6001 frames with pictures of observed area)."
   ]
  },
  {
   "cell_type": "code",
   "execution_count": 3,
   "metadata": {
    "collapsed": true
   },
   "outputs": [],
   "source": [
    "# amount of data in src/Csv folder\n",
    "NUMBER_OF_PEDESTRIANS = 12684\n",
    "\n",
    "TRAIN_NUMBER = 10569\n",
    "TEST_NUMBER = 2115\n",
    "\n",
    "assert TRAIN_NUMBER + TEST_NUMBER == NUMBER_OF_PEDESTRIANS"
   ]
  },
  {
   "cell_type": "markdown",
   "metadata": {},
   "source": [
    "Points are stored like [X1, Y1, X2, Y2, ...].\n",
    "So we need to calculate distance between them and double that distance to perform some operations with same shape arrays."
   ]
  },
  {
   "cell_type": "code",
   "execution_count": 10,
   "metadata": {
    "collapsed": false
   },
   "outputs": [],
   "source": [
    "# array1: [sX1; sY1; sX2; sY2; ...]\n",
    "# array2: [eX1; eY1; eX2; eY2; ...]\n",
    "# output: [dist((sX1, sY1), (eX1, eY1)), dist((sX1, sY1), (eX1, eY1)),\n",
    "#          dist((sX2, sY2), (eX2, eY2)), dist((sX2, sY2), (eX2, eY2)), ...]\n",
    "\n",
    "def distance_for_each_point(array1, array2):\n",
    "    error_template = \"Array lengths should be equal. len(array1): {len1}, len(array2): {len2}\"\n",
    "    assert (len(array1) == len(array2)), error_template.format(len1=len(array1), len2=len(array2))\n",
    "    \n",
    "    length = len(array1)\n",
    "    # array1[i:i+2] -- point i from first array\n",
    "    # np.linalg.norm -- calculate distance between points\n",
    "    distance = np.array([np.linalg.norm(array1[i:i+2] - array2[i:i+2]) for i in range(0,length,2)])\n",
    "    \n",
    "    return np.array([[d, d] for d in distance]).flatten()"
   ]
  },
  {
   "cell_type": "code",
   "execution_count": 24,
   "metadata": {
    "collapsed": true
   },
   "outputs": [],
   "source": [
    "# input consists of list of points\n",
    "# function get some two of them (the last one and %start_point%), build a vector with the same direction\n",
    "# and returns %number_of_points_to_return% points (5 by default) on this vector with equal distance between them\n",
    "# distance can be equal to last vector distance (by default) or to mean distance of all vectors (mean_distance=True)\n",
    "\n",
    "def get_vector_linear_continuation(dataframe, start_point_index=0, number_of_points_to_return=5):\n",
    "    error_template = \"Start point index should be less than last point. Start point index: {st}, last point index: {end}\"\n",
    "    assert (start_point_index < len(dataframe) - 1), error_template.format(st=start_point_index, end=len(dataframe) - 1)\n",
    "    \n",
    "    start_point = np.array(dataframe)[start_point_index]\n",
    "    last_but_one_point = np.array(dataframe)[-2]\n",
    "    end_point = np.array(dataframe)[-1]\n",
    "    \n",
    "    distance = distance_for_each_point(end_point, start_point)\n",
    "    normalized_motion_vector = (end_point - start_point) / distance\n",
    "    normalized_motion_vector[np.where(distance == 0)] = 0\n",
    "    last_vector_length = distance_for_each_point(end_point, last_but_one_point)\n",
    "    \n",
    "    motion_vector = normalized_motion_vector * last_vector_length\n",
    "    result = []\n",
    "    for i in range(number_of_points_to_return):\n",
    "        result.append(end_point + (i + 1) * motion_vector)\n",
    "        \n",
    "    return np.array(result)"
   ]
  },
  {
   "cell_type": "code",
   "execution_count": 4,
   "metadata": {
    "collapsed": true
   },
   "outputs": [],
   "source": [
    "ZERO_PADDING = 6\n",
    "\n",
    "def get_filename(index):\n",
    "    return \"src/Csv/{}.txt\".format(str(index).zfill(ZERO_PADDING))\n",
    "\n",
    "NUMBER_OF_PEDESTRIANS = 12273\n",
    "\n",
    "def download_pedestrian(index):\n",
    "    error_message_template = \"Pedestrian number should be between 0 and {max}; given number: {id}\"\n",
    "    assert(0 <= index < NUMBER_OF_PEDESTRIANS), error_message_template.format(max=NUMBER_OF_PEDESTRIANS-1, id=index)\n",
    "    filename = get_filename(index)\n",
    "    data = pd.read_csv(filename, index_col=0)\n",
    "    return data"
   ]
  },
  {
   "cell_type": "code",
   "execution_count": 5,
   "metadata": {
    "collapsed": true
   },
   "outputs": [],
   "source": [
    "# in each row: {index; category; frames_number; label}\n",
    "labels = pd.read_csv('src/pedestrian_labels_and_test_and_train_separation.csv', index_col=0)"
   ]
  },
  {
   "cell_type": "markdown",
   "metadata": {},
   "source": [
    "Here we will get some data such as mean frames for pedestrians or difference between real pedestrian's coordinates and predicted through get_vector_linear_continuation with different paremeters."
   ]
  },
  {
   "cell_type": "code",
   "execution_count": 6,
   "metadata": {
    "collapsed": false
   },
   "outputs": [
    {
     "data": {
      "text/plain": [
       "(36.95486026236454, 10, 995)"
      ]
     },
     "execution_count": 6,
     "metadata": {},
     "output_type": "execute_result"
    }
   ],
   "source": [
    "labels['frames_number'].mean(), labels['frames_number'].min(), labels['frames_number'].max()"
   ]
  },
  {
   "cell_type": "code",
   "execution_count": 7,
   "metadata": {
    "collapsed": false
   },
   "outputs": [],
   "source": [
    "data = pd.DataFrame()\n",
    "\n",
    "for index in range(1, NUMBER_OF_PEDESTRIANS + 1):\n",
    "    if labels['category'][index] == 'train':\n",
    "        continue\n",
    "\n",
    "    # in each row: {index (time); X; Y}    \n",
    "    pedestrian_data = download_pedestrian(index)[:10].reset_index()[['X', 'Y']]\n",
    "    \n",
    "    # in each row: {X; Y; X; Y; ...}\n",
    "    data = pd.concat([data, pedestrian_data], axis=1)"
   ]
  },
  {
   "cell_type": "code",
   "execution_count": 8,
   "metadata": {
    "collapsed": false
   },
   "outputs": [],
   "source": [
    "data.to_csv('src/Logs/161002_first_ten_coordinates_from_test.csv')"
   ]
  },
  {
   "cell_type": "code",
   "execution_count": 9,
   "metadata": {
    "collapsed": true
   },
   "outputs": [],
   "source": [
    "input_coordinates = data[:5]\n",
    "real_coordinates = data[5:10]"
   ]
  },
  {
   "cell_type": "code",
   "execution_count": 33,
   "metadata": {
    "collapsed": false
   },
   "outputs": [],
   "source": [
    "predicted_coordinates = []\n",
    "\n",
    "# i will be start point index\n",
    "for i in range(4):\n",
    "    predicted_coordinates.append(get_vector_linear_continuation(input_coordinates, start_point_index=i))\n",
    "\n",
    "predicted_coordinates = np.array(predicted_coordinates)\n",
    "np.save('src/Logs/161003_predicted_coordinates_for_baseline_all_startpoints', predicted_coordinates)"
   ]
  },
  {
   "cell_type": "code",
   "execution_count": 35,
   "metadata": {
    "collapsed": true
   },
   "outputs": [],
   "source": [
    "result = []\n",
    "for i in range(4):\n",
    "    result.append(distance_for_each_point(np.array(real_coordinates), predicted_coordinates[i]).sum())"
   ]
  },
  {
   "cell_type": "code",
   "execution_count": 38,
   "metadata": {
    "collapsed": false
   },
   "outputs": [
    {
     "data": {
      "image/png": "[encoded data removed]",
      "text/plain": [
       "<matplotlib.figure.Figure at 0x99fc2e8>"
      ]
     },
     "metadata": {},
     "output_type": "display_data"
    }
   ],
   "source": [
    "ind = np.arange(4)\n",
    "width = 0.4\n",
    "result_bar = plt.bar(ind, result, width, color='g')\n",
    "\n",
    "plt.ylabel('Sum by test pedestrians')\n",
    "plt.xlabel('Start point index')\n",
    "plt.title('Difference between real points and predicted')\n",
    "plt.xticks(ind)\n",
    "plt.savefig('src/Plots/161003_difference_between_real_points_and_predicted.png')"
   ]
  },
  {
   "cell_type": "markdown",
   "metadata": {},
   "source": [
    "As we can see, it's better to get last but one point as start point."
   ]
  }
 ],
 "metadata": {
  "kernelspec": {
   "display_name": "Python 3",
   "language": "python",
   "name": "python3"
  },
  "language_info": {
   "codemirror_mode": {
    "name": "ipython",
    "version": 3
   },
   "file_extension": ".py",
   "mimetype": "text/x-python",
   "name": "python",
   "nbconvert_exporter": "python",
   "pygments_lexer": "ipython3",
   "version": "3.5.1"
  }
 },
 "nbformat": 4,
 "nbformat_minor": 0
}
