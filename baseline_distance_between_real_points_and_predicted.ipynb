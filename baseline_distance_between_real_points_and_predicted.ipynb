{
 "cells": [
  {
   "cell_type": "markdown",
   "metadata": {},
   "source": [
    "# Simple baseline algorithm to get some start point"
   ]
  },
  {
   "cell_type": "code",
   "execution_count": 1,
   "metadata": {
    "collapsed": false
   },
   "outputs": [],
   "source": [
    "import numpy as np\n",
    "import pandas as pd\n",
    "import matplotlib.pyplot as plt\n",
    "\n",
    "%matplotlib inline\n",
    "\n",
    "plt.style.use('ggplot')\n",
    "plt.rcParams['figure.figsize'] = (15, 7)"
   ]
  },
  {
   "cell_type": "markdown",
   "metadata": {},
   "source": [
    "I got data from [here](http://www.ee.cuhk.edu.hk/~syi/). It includes folder Annotation (now Csv) (which consists of txt-file describing path for each of 12684 pedestrians) and folder Frame (6001 frames with pictures of observed area)."
   ]
  },
  {
   "cell_type": "markdown",
   "metadata": {},
   "source": [
    "Points are stored like [X1, Y1, X2, Y2, ...].\n",
    "So we need to calculate distance between them and double that distance to perform some operations with same shape arrays."
   ]
  },
  {
   "cell_type": "code",
   "execution_count": 16,
   "metadata": {
    "collapsed": false
   },
   "outputs": [],
   "source": [
    "# array1: [sX1; sY1; sX2; sY2; ...]\n",
    "# array2: [eX1; eY1; eX2; eY2; ...]\n",
    "# output: [dist((sX1, sY1), (eX1, eY1)), dist((sX1, sY1), (eX1, eY1)),\n",
    "#          dist((sX2, sY2), (eX2, eY2)), dist((sX2, sY2), (eX2, eY2)), ...]\n",
    "\n",
    "def distance_for_each_point(array1, array2):\n",
    "    error_template = \"Array lengths should be equal. len(array1): {len1}, len(array2): {len2}\"\n",
    "    assert (len(array1) == len(array2)), error_template.format(len1=len(array1), len2=len(array2))\n",
    "    \n",
    "    if array1.ndim == 1:\n",
    "        length = len(array1)\n",
    "        # array1[i:i+2] -- point i from first array\n",
    "        # np.linalg.norm -- calculate distance between points\n",
    "        distance = np.array([np.linalg.norm(array1[i:i+2] - array2[i:i+2]) for i in range(0,length,2)])\n",
    "        result = np.array([[d, d] for d in distance]).flatten()\n",
    "    else:\n",
    "        result = []\n",
    "        for i in range(len(array1)):\n",
    "            result.append(distance_for_each_point(array1[i], array2[i]))\n",
    "        result = np.array(result)\n",
    "    \n",
    "    return result"
   ]
  },
  {
   "cell_type": "code",
   "execution_count": 3,
   "metadata": {
    "collapsed": true
   },
   "outputs": [],
   "source": [
    "# input consists of list of points\n",
    "# function get some two of them (the last one and %start_point%), build a vector with the same direction\n",
    "# and returns %number_of_points_to_return% points (5 by default) on this vector with equal distance between them\n",
    "# distance can be equal to last vector distance (by default) or to mean distance of all vectors (mean_distance=True)\n",
    "\n",
    "def get_vector_linear_continuation(dataframe, start_point_index=0, number_of_points_to_return=5):\n",
    "    error_template = \"Start point index should be less than last point. Start point index: {st}, last point index: {end}\"\n",
    "    assert (start_point_index < len(dataframe) - 1), error_template.format(st=start_point_index, end=len(dataframe) - 1)\n",
    "    \n",
    "    start_point = np.array(dataframe)[start_point_index]\n",
    "    last_but_one_point = np.array(dataframe)[-2]\n",
    "    end_point = np.array(dataframe)[-1]\n",
    "    \n",
    "    distance = distance_for_each_point(end_point, start_point)\n",
    "    normalized_motion_vector = (end_point - start_point) / distance\n",
    "    normalized_motion_vector[np.where(distance == 0)] = 0\n",
    "    last_vector_length = distance_for_each_point(end_point, last_but_one_point)\n",
    "    \n",
    "    motion_vector = normalized_motion_vector * last_vector_length\n",
    "    result = []\n",
    "    for i in range(number_of_points_to_return):\n",
    "        result.append(end_point + (i + 1) * motion_vector)\n",
    "        \n",
    "    return np.array(result)"
   ]
  },
  {
   "cell_type": "code",
   "execution_count": 4,
   "metadata": {
    "collapsed": true
   },
   "outputs": [],
   "source": [
    "data = pd.read_csv('src/test_data_points.csv', index_col=0)"
   ]
  },
  {
   "cell_type": "code",
   "execution_count": 5,
   "metadata": {
    "collapsed": true
   },
   "outputs": [],
   "source": [
    "test_data = data[:5]\n",
    "test_results = data[5:10]"
   ]
  },
  {
   "cell_type": "code",
   "execution_count": 17,
   "metadata": {
    "collapsed": false
   },
   "outputs": [],
   "source": [
    "predicted_results = []\n",
    "\n",
    "# i will be start point index\n",
    "for i in range(4):\n",
    "    predicted_results.append(get_vector_linear_continuation(test_data, start_point_index=i))\n",
    "\n",
    "predicted_results = np.array(predicted_results)\n",
    "np.save('src/Logs/161003_predicted_coordinates_for_baseline_all_startpoints', predicted_results)"
   ]
  },
  {
   "cell_type": "code",
   "execution_count": 19,
   "metadata": {
    "collapsed": false
   },
   "outputs": [],
   "source": [
    "result = []\n",
    "number_of_samples = test_results.shape[1] / 2\n",
    "for i in range(4):\n",
    "    result.append(distance_for_each_point(np.array(test_results), predicted_results[i]).sum() / 2 / number_of_samples)"
   ]
  },
  {
   "cell_type": "code",
   "execution_count": 20,
   "metadata": {
    "collapsed": false
   },
   "outputs": [
    {
     "data": {
      "image/png": "[encoded data removed]",
      "text/plain": [
       "<matplotlib.figure.Figure at 0xd775c50>"
      ]
     },
     "metadata": {},
     "output_type": "display_data"
    }
   ],
   "source": [
    "ind = np.arange(4)\n",
    "width = 0.4\n",
    "result_bar = plt.bar(ind, result, width, color='g')\n",
    "\n",
    "plt.ylabel('Average distance per point')\n",
    "plt.xlabel('Start point index')\n",
    "plt.title('Difference between real point and predicted')\n",
    "plt.xticks(ind)\n",
    "plt.savefig('src/Plots/161003_difference_between_real_points_and_predicted.png')"
   ]
  }
 ],
 "metadata": {
  "kernelspec": {
   "display_name": "Python 3",
   "language": "python",
   "name": "python3"
  },
  "language_info": {
   "codemirror_mode": {
    "name": "ipython",
    "version": 3
   },
   "file_extension": ".py",
   "mimetype": "text/x-python",
   "name": "python",
   "nbconvert_exporter": "python",
   "pygments_lexer": "ipython3",
   "version": "3.5.1"
  }
 },
 "nbformat": 4,
 "nbformat_minor": 0
}
