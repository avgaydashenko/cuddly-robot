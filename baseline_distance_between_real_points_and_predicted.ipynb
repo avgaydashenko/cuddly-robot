{
 "cells": [
  {
   "cell_type": "markdown",
   "metadata": {},
   "source": [
    "# Simple baseline algorithm to get some start point"
   ]
  },
  {
   "cell_type": "code",
   "execution_count": 1,
   "metadata": {
    "collapsed": true
   },
   "outputs": [],
   "source": [
    "import numpy as np\n",
    "import pandas as pd\n",
    "import matplotlib.pyplot\n",
    "\n",
    "%matplotlib inline\n",
    "\n",
    "import random # only need to generate random pedestrians"
   ]
  },
  {
   "cell_type": "markdown",
   "metadata": {},
   "source": [
    "I got data from [here](http://www.ee.cuhk.edu.hk/~syi/). It includes folder Annotation (now Csv) (which consists of txt-file describing path for each of 12684 pedestrians) and folder Frame (6001 frames with pictures of observed area)."
   ]
  },
  {
   "cell_type": "code",
   "execution_count": 18,
   "metadata": {
    "collapsed": true
   },
   "outputs": [],
   "source": [
    "# amount of data in src/Csv folder\n",
    "NUMBER_OF_PEDESTRIANS = 12684\n",
    "\n",
    "TRAIN_NUMBER = 10569\n",
    "TEST_NUMBER = 2115\n",
    "\n",
    "assert TRAIN_NUMBER + TEST_NUMBER == NUMBER_OF_PEDESTRIANS"
   ]
  },
  {
   "cell_type": "code",
   "execution_count": 42,
   "metadata": {
    "collapsed": true
   },
   "outputs": [],
   "source": [
    "# input consists of list of points\n",
    "# function get some two of them (the last one and %start_point%), build a vector with the same direction\n",
    "# and returns %number_of_points_to_return% points (5 by default) on this vector with equal distance between them\n",
    "# distance can be equal to last vector distance (by default) or to mean distance of all vectors (mean_distance=True)\n",
    "\n",
    "def get_vector_linear_continuation(input_list, start_point_index, number_of_points_to_return=5, mean_distance=False):\n",
    "    error_template = \"Start point index should be less than last point. Start point index: {st}, last point index: {end}\"\n",
    "    assert (start_point_index < len(input_list) - 1), error_template.format(st=start_point_index, end=len(input_list) - 1)\n",
    "    start_point = np.array(input_list)[start_point_index]\n",
    "    end_point = np.array(input_list)[-1]\n",
    "    normalized_motion_vector = (end_point - start_point) / np.linalg.norm(end_point - start_point)\n",
    "    if mean_distance:\n",
    "        distance = 0\n",
    "        for i in range(len(input_list) - 1):\n",
    "            distance += np.linalg.norm(np.array(input_list)[i + 1] - np.array(input_list)[i])\n",
    "        distance /= len(input_list) - 1\n",
    "    else:\n",
    "        distance = np.linalg.norm(end_point - np.array(input_list)[-2])\n",
    "    motion_vector = normalized_motion_vector * distance\n",
    "    result = []\n",
    "    for i in range(number_of_points_to_return):\n",
    "        result.append(end_point + (i + 1) * motion_vector)\n",
    "    return result"
   ]
  },
  {
   "cell_type": "code",
   "execution_count": 7,
   "metadata": {
    "collapsed": true
   },
   "outputs": [],
   "source": [
    "def download_pedestrian(index):\n",
    "    error_message_template = \"Pedestrian number should be between 1 and {max}; given number: {id}\"\n",
    "    assert(1 <= index <= NUMBER_OF_PEDESTRIANS), error_message_template.format(max=NUMBER_OF_PEDESTRIANS, id=index)\n",
    "    filename = \"src/Csv/{}.txt\".format(str(index).zfill(ZERO_PADDING))\n",
    "    data = pd.read_csv(filename, index_col=0)\n",
    "    return data"
   ]
  },
  {
   "cell_type": "code",
   "execution_count": 25,
   "metadata": {
    "collapsed": true
   },
   "outputs": [],
   "source": [
    "# in each row: {index; category; frames_number; label}\n",
    "labels = pd.read_csv('src/pedestrian_labels_and_test_and_train_separation.csv', index_col=0)"
   ]
  },
  {
   "cell_type": "markdown",
   "metadata": {},
   "source": [
    "Here we will get some data such as mean frames for pedestrians or difference between real pedestrian's coordinates and predicted through get_vector_linear_continuation with different paremeters."
   ]
  },
  {
   "cell_type": "code",
   "execution_count": 28,
   "metadata": {
    "collapsed": false
   },
   "outputs": [
    {
     "data": {
      "text/plain": [
       "(35.98312835067802, 1, 995)"
      ]
     },
     "execution_count": 28,
     "metadata": {},
     "output_type": "execute_result"
    }
   ],
   "source": [
    "labels['frames_number'].mean(), labels['frames_number'].min(), labels['frames_number'].max()"
   ]
  },
  {
   "cell_type": "code",
   "execution_count": 56,
   "metadata": {
    "collapsed": false
   },
   "outputs": [
    {
     "name": "stdout",
     "output_type": "stream",
     "text": [
      "Attention: index 13 in category \"test\" but contains less than ten frames\n",
      "It contains 3 frames\n",
      "Attention: index 53 in category \"test\" but contains less than ten frames\n",
      "It contains 8 frames\n",
      "Attention: index 59 in category \"test\" but contains less than ten frames\n",
      "It contains 6 frames\n",
      "Attention: index 387 in category \"test\" but contains less than ten frames\n",
      "It contains 9 frames\n",
      "Attention: index 445 in category \"test\" but contains less than ten frames\n",
      "It contains 7 frames\n",
      "Attention: index 600 in category \"test\" but contains less than ten frames\n",
      "It contains 7 frames\n",
      "Attention: index 671 in category \"test\" but contains less than ten frames\n",
      "It contains 9 frames\n",
      "Attention: index 783 in category \"test\" but contains less than ten frames\n",
      "It contains 9 frames\n",
      "Attention: index 839 in category \"test\" but contains less than ten frames\n",
      "It contains 9 frames\n",
      "Attention: index 1044 in category \"test\" but contains less than ten frames\n",
      "It contains 7 frames\n",
      "Attention: index 2174 in category \"test\" but contains less than ten frames\n",
      "It contains 9 frames\n",
      "Attention: index 2357 in category \"test\" but contains less than ten frames\n",
      "It contains 7 frames\n",
      "Attention: index 2452 in category \"test\" but contains less than ten frames\n",
      "It contains 8 frames\n",
      "Attention: index 3706 in category \"test\" but contains less than ten frames\n",
      "It contains 8 frames\n",
      "Attention: index 3817 in category \"test\" but contains less than ten frames\n",
      "It contains 9 frames\n",
      "Attention: index 4455 in category \"test\" but contains less than ten frames\n",
      "It contains 9 frames\n",
      "Attention: index 4510 in category \"test\" but contains less than ten frames\n",
      "It contains 1 frames\n",
      "Attention: index 4565 in category \"test\" but contains less than ten frames\n",
      "It contains 9 frames\n",
      "Attention: index 4574 in category \"test\" but contains less than ten frames\n",
      "It contains 4 frames\n",
      "Attention: index 4789 in category \"test\" but contains less than ten frames\n",
      "It contains 5 frames\n",
      "Attention: index 4818 in category \"test\" but contains less than ten frames\n",
      "It contains 5 frames\n",
      "Attention: index 4925 in category \"test\" but contains less than ten frames\n",
      "It contains 6 frames\n",
      "Attention: index 5131 in category \"test\" but contains less than ten frames\n",
      "It contains 6 frames\n",
      "Attention: index 5139 in category \"test\" but contains less than ten frames\n",
      "It contains 8 frames\n",
      "Attention: index 5252 in category \"test\" but contains less than ten frames\n",
      "It contains 9 frames\n",
      "Attention: index 5254 in category \"test\" but contains less than ten frames\n",
      "It contains 7 frames\n",
      "Attention: index 5278 in category \"test\" but contains less than ten frames\n",
      "It contains 5 frames\n",
      "Attention: index 5721 in category \"test\" but contains less than ten frames\n",
      "It contains 8 frames\n",
      "Attention: index 6039 in category \"test\" but contains less than ten frames\n",
      "It contains 8 frames\n",
      "Attention: index 6096 in category \"test\" but contains less than ten frames\n",
      "It contains 8 frames\n",
      "Attention: index 6639 in category \"test\" but contains less than ten frames\n",
      "It contains 8 frames\n",
      "Attention: index 6656 in category \"test\" but contains less than ten frames\n",
      "It contains 9 frames\n",
      "Attention: index 6662 in category \"test\" but contains less than ten frames\n",
      "It contains 9 frames\n",
      "Attention: index 6712 in category \"test\" but contains less than ten frames\n",
      "It contains 9 frames\n",
      "Attention: index 6787 in category \"test\" but contains less than ten frames\n",
      "It contains 5 frames\n",
      "Attention: index 6794 in category \"test\" but contains less than ten frames\n",
      "It contains 9 frames\n",
      "Attention: index 6934 in category \"test\" but contains less than ten frames\n",
      "It contains 8 frames\n",
      "Attention: index 7194 in category \"test\" but contains less than ten frames\n",
      "It contains 9 frames\n",
      "Attention: index 7562 in category \"test\" but contains less than ten frames\n",
      "It contains 4 frames\n",
      "Attention: index 8520 in category \"test\" but contains less than ten frames\n",
      "It contains 8 frames\n",
      "Attention: index 9062 in category \"test\" but contains less than ten frames\n",
      "It contains 8 frames\n",
      "Attention: index 9207 in category \"test\" but contains less than ten frames\n",
      "It contains 9 frames\n",
      "Attention: index 9310 in category \"test\" but contains less than ten frames\n",
      "It contains 4 frames\n",
      "Attention: index 9789 in category \"test\" but contains less than ten frames\n",
      "It contains 4 frames\n",
      "Attention: index 9796 in category \"test\" but contains less than ten frames\n",
      "It contains 8 frames\n",
      "Attention: index 9838 in category \"test\" but contains less than ten frames\n",
      "It contains 4 frames\n",
      "Attention: index 9893 in category \"test\" but contains less than ten frames\n",
      "It contains 9 frames\n",
      "Attention: index 9905 in category \"test\" but contains less than ten frames\n",
      "It contains 6 frames\n",
      "Attention: index 9978 in category \"test\" but contains less than ten frames\n",
      "It contains 8 frames\n",
      "Attention: index 10016 in category \"test\" but contains less than ten frames\n",
      "It contains 4 frames\n",
      "Attention: index 10376 in category \"test\" but contains less than ten frames\n",
      "It contains 7 frames\n",
      "Attention: index 10428 in category \"test\" but contains less than ten frames\n",
      "It contains 6 frames\n",
      "Attention: index 10520 in category \"test\" but contains less than ten frames\n",
      "It contains 9 frames\n",
      "Attention: index 10541 in category \"test\" but contains less than ten frames\n",
      "It contains 7 frames\n",
      "Attention: index 10545 in category \"test\" but contains less than ten frames\n",
      "It contains 9 frames\n",
      "Attention: index 10592 in category \"test\" but contains less than ten frames\n",
      "It contains 7 frames\n",
      "Attention: index 10610 in category \"test\" but contains less than ten frames\n",
      "It contains 4 frames\n",
      "Attention: index 10653 in category \"test\" but contains less than ten frames\n",
      "It contains 7 frames\n",
      "Attention: index 10814 in category \"test\" but contains less than ten frames\n",
      "It contains 5 frames\n",
      "Attention: index 10939 in category \"test\" but contains less than ten frames\n",
      "It contains 5 frames\n",
      "Attention: index 10957 in category \"test\" but contains less than ten frames\n",
      "It contains 9 frames\n",
      "Attention: index 11128 in category \"test\" but contains less than ten frames\n",
      "It contains 7 frames\n",
      "Attention: index 11167 in category \"test\" but contains less than ten frames\n",
      "It contains 6 frames\n",
      "Attention: index 11244 in category \"test\" but contains less than ten frames\n",
      "It contains 9 frames\n",
      "Attention: index 11363 in category \"test\" but contains less than ten frames\n",
      "It contains 3 frames\n",
      "Attention: index 11394 in category \"test\" but contains less than ten frames\n",
      "It contains 7 frames\n",
      "Attention: index 11621 in category \"test\" but contains less than ten frames\n",
      "It contains 9 frames\n",
      "Attention: index 11679 in category \"test\" but contains less than ten frames\n",
      "It contains 9 frames\n",
      "Attention: index 12030 in category \"test\" but contains less than ten frames\n",
      "It contains 9 frames\n",
      "Attention: index 12105 in category \"test\" but contains less than ten frames\n",
      "It contains 9 frames\n",
      "Attention: index 12220 in category \"test\" but contains less than ten frames\n",
      "It contains 8 frames\n"
     ]
    }
   ],
   "source": [
    "difference_false_mean_distance = pd.DataFrame(columns=[str(i + 1) for i in range(4)])\n",
    "difference_true_mean_distance = pd.DataFrame(columns=[str(i + 1) for i in range(4)])\n",
    "\n",
    "for index in range(1, NUMBER_OF_PEDESTRIANS + 1):\n",
    "    if labels['category'][index] == 'train':\n",
    "        continue\n",
    "    \n",
    "    # in each row: {index (time); X; Y}\n",
    "    data = download_pedestrian(index)\n",
    "    input_list = data[:5]\n",
    "    output_list = data[5:10]\n",
    "    \n",
    "    # if way of pedestrian is shorter than ten coordinates\n",
    "    if input_list.shape[0] + output_list.shape[0] != 10:\n",
    "        print('Attention: index {id} in category \"test\" but contains less than ten frames'.format(id=index))\n",
    "        print('It contains {} frames'.format((input_list.shape[0] + output_list.shape[0])))\n",
    "        continue\n",
    "        \n",
    "    real_coordinates = np.array(output_list)\n",
    "    \n",
    "    false_mean_distance = []\n",
    "    true_mean_distance = []\n",
    "        \n",
    "    for i in range(4):\n",
    "        predicted_false = np.array(get_vector_linear_continuation(input_list, start_point_index=i))\n",
    "        predicted_true = np.array(get_vector_linear_continuation(input_list, start_point_index=i, mean_distance=True))\n",
    "\n",
    "        false_mean_distance.append(sum([np.linalg.norm(predicted_false[i] - real_coordinates[i]) for i in range(5)]))\n",
    "        true_mean_distance.append(sum([np.linalg.norm(predicted_true[i] - real_coordinates[i]) for i in range(5)]))\n",
    "            \n",
    "    false_mean_distance = pd.Series(false_mean_distance, index=[str(i + 1) for i in range(4)])\n",
    "    true_mean_distance = pd.Series(true_mean_distance, index=[str(i + 1) for i in range(4)])\n",
    "        \n",
    "    difference_false_mean_distance = difference_false_mean_distance.append(false_mean_distance, ignore_index=True)  \n",
    "    difference_true_mean_distance = difference_true_mean_distance.append(true_mean_distance, ignore_index=True)"
   ]
  },
  {
   "cell_type": "code",
   "execution_count": 58,
   "metadata": {
    "collapsed": false
   },
   "outputs": [],
   "source": [
    "difference_false_mean_distance.to_csv('src/Logs/160925_difference_false_mean_distance.csv')\n",
    "difference_true_mean_distance.to_csv('src/Logs/160925_difference_true_mean_distance.csv')"
   ]
  },
  {
   "cell_type": "code",
   "execution_count": 67,
   "metadata": {
    "collapsed": false
   },
   "outputs": [
    {
     "data": {
      "text/plain": [
       "<matplotlib.axes._subplots.AxesSubplot at 0xa338518>"
      ]
     },
     "execution_count": 67,
     "metadata": {},
     "output_type": "execute_result"
    },
    {
     "data": {
      "image/png": "[encoded data removed]",
      "text/plain": [
       "<matplotlib.figure.Figure at 0xa3853c8>"
      ]
     },
     "metadata": {},
     "output_type": "display_data"
    }
   ],
   "source": [
    "difference_false_mean_distance.mean().plot.bar()"
   ]
  },
  {
   "cell_type": "code",
   "execution_count": 68,
   "metadata": {
    "collapsed": false
   },
   "outputs": [
    {
     "data": {
      "text/plain": [
       "<matplotlib.axes._subplots.AxesSubplot at 0xa3b0198>"
      ]
     },
     "execution_count": 68,
     "metadata": {},
     "output_type": "execute_result"
    },
    {
     "data": {
      "image/png": "[encoded data removed]",
      "text/plain": [
       "<matplotlib.figure.Figure at 0xa3f4ef0>"
      ]
     },
     "metadata": {},
     "output_type": "display_data"
    }
   ],
   "source": [
    "difference_true_mean_distance.mean().plot.bar()"
   ]
  },
  {
   "cell_type": "code",
   "execution_count": 69,
   "metadata": {
    "collapsed": false
   },
   "outputs": [
    {
     "data": {
      "text/plain": [
       "<matplotlib.axes._subplots.AxesSubplot at 0xa4637f0>"
      ]
     },
     "execution_count": 69,
     "metadata": {},
     "output_type": "execute_result"
    },
    {
     "data": {
      "image/png": "[encoded data removed]",
      "text/plain": [
       "<matplotlib.figure.Figure at 0xa312048>"
      ]
     },
     "metadata": {},
     "output_type": "display_data"
    }
   ],
   "source": [
    "difference_false_mean_distance.sum().plot.bar()"
   ]
  },
  {
   "cell_type": "code",
   "execution_count": 70,
   "metadata": {
    "collapsed": false
   },
   "outputs": [
    {
     "data": {
      "text/plain": [
       "<matplotlib.axes._subplots.AxesSubplot at 0xa4950f0>"
      ]
     },
     "execution_count": 70,
     "metadata": {},
     "output_type": "execute_result"
    },
    {
     "data": {
      "image/png": "[encoded data removed]",
      "text/plain": [
       "<matplotlib.figure.Figure at 0xa4e8860>"
      ]
     },
     "metadata": {},
     "output_type": "display_data"
    }
   ],
   "source": [
    "difference_true_mean_distance.sum().plot.bar()"
   ]
  },
  {
   "cell_type": "code",
   "execution_count": null,
   "metadata": {
    "collapsed": true
   },
   "outputs": [],
   "source": []
  }
 ],
 "metadata": {
  "kernelspec": {
   "display_name": "Python 3",
   "language": "python",
   "name": "python3"
  },
  "language_info": {
   "codemirror_mode": {
    "name": "ipython",
    "version": 3
   },
   "file_extension": ".py",
   "mimetype": "text/x-python",
   "name": "python",
   "nbconvert_exporter": "python",
   "pygments_lexer": "ipython3",
   "version": "3.5.1"
  }
 },
 "nbformat": 4,
 "nbformat_minor": 0
}
