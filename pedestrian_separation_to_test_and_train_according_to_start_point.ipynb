{
 "cells": [
  {
   "cell_type": "markdown",
   "metadata": {},
   "source": [
    "# Separate pedestrians to test and train according to start point in 5x5 grid"
   ]
  },
  {
   "cell_type": "code",
   "execution_count": 79,
   "metadata": {
    "collapsed": true
   },
   "outputs": [],
   "source": [
    "import numpy as np\n",
    "import pandas as pd\n",
    "import matplotlib.pyplot as plt\n",
    "\n",
    "%matplotlib inline\n",
    "\n",
    "plt.style.use('ggplot')\n",
    "plt.rcParams['figure.figsize'] = (15, 7)"
   ]
  },
  {
   "cell_type": "code",
   "execution_count": 2,
   "metadata": {
    "collapsed": true
   },
   "outputs": [],
   "source": [
    "FRAME_WIDTH = 1920\n",
    "FRAME_HEIGHT = 1080"
   ]
  },
  {
   "cell_type": "markdown",
   "metadata": {},
   "source": [
    "After useless pedestrian removal amount changed and numeration now starts from 0 not 1"
   ]
  },
  {
   "cell_type": "code",
   "execution_count": 3,
   "metadata": {
    "collapsed": false
   },
   "outputs": [],
   "source": [
    "# in annotation names of files look like \"000010.txt\"\n",
    "# so we need to adjust strings while converting them from floats\n",
    "ZERO_PADDING = 6\n",
    "NUMBER_OF_PEDESTRIANS = 12273\n",
    "\n",
    "def get_filename(index):\n",
    "    return \"src/Csv/{}.txt\".format(str(index).zfill(ZERO_PADDING))\n",
    "\n",
    "def download_pedestrian(index):\n",
    "    error_message_template = \"Pedestrian number should be between 0 and {max}; given number: {id}\"\n",
    "    assert(0 <= index < NUMBER_OF_PEDESTRIANS), error_message_template.format(max=NUMBER_OF_PEDESTRIANS-1, id=index)\n",
    "    filename = get_filename(index)\n",
    "    data = pd.read_csv(filename, index_col=0)\n",
    "    return data"
   ]
  },
  {
   "cell_type": "markdown",
   "metadata": {},
   "source": [
    "We will give every pedestrian label which depends on pedestrian's start point."
   ]
  },
  {
   "cell_type": "markdown",
   "metadata": {},
   "source": [
    "Let's save label, number of frames and category of pedestrian: test or train."
   ]
  },
  {
   "cell_type": "code",
   "execution_count": 4,
   "metadata": {
    "collapsed": false
   },
   "outputs": [],
   "source": [
    "w = FRAME_WIDTH / 5\n",
    "h = FRAME_HEIGHT / 5\n",
    "\n",
    "labels = []\n",
    "number_of_frames = []\n",
    "\n",
    "for index in range(NUMBER_OF_PEDESTRIANS):\n",
    "    data = download_pedestrian(index)\n",
    "    \n",
    "    number_of_frames.append(int(data.shape[0]))\n",
    "    \n",
    "    start_coordinate = data[:1]\n",
    "    i = int(start_coordinate['X'] / w) + 1\n",
    "    j = int(start_coordinate['Y'] / h)\n",
    "    labels.append(j * 5 + i)"
   ]
  },
  {
   "cell_type": "code",
   "execution_count": 5,
   "metadata": {
    "collapsed": false
   },
   "outputs": [],
   "source": [
    "from sklearn.cross_validation import StratifiedShuffleSplit\n",
    "\n",
    "labels = np.array(labels)\n",
    "sss = StratifiedShuffleSplit(labels, test_size=1/6, n_iter=1)\n",
    "\n",
    "for train, test in sss:\n",
    "    train_indeces = train\n",
    "    test_indeces = test"
   ]
  },
  {
   "cell_type": "code",
   "execution_count": 6,
   "metadata": {
    "collapsed": true
   },
   "outputs": [],
   "source": [
    "category = []\n",
    "\n",
    "for index in range(NUMBER_OF_PEDESTRIANS):\n",
    "    category.append('train' if index in train_indeces else 'test')"
   ]
  },
  {
   "cell_type": "code",
   "execution_count": 7,
   "metadata": {
    "collapsed": true
   },
   "outputs": [],
   "source": [
    "data = pd.DataFrame({'label': pd.Series(labels, index=range(1, NUMBER_OF_PEDESTRIANS + 1)),\n",
    "                     'category': pd.Series(category, index=range(1, NUMBER_OF_PEDESTRIANS + 1)),\n",
    "                     'frames_number': pd.Series(number_of_frames, index=range(1, NUMBER_OF_PEDESTRIANS + 1))})"
   ]
  },
  {
   "cell_type": "code",
   "execution_count": 11,
   "metadata": {
    "collapsed": false
   },
   "outputs": [],
   "source": [
    "data.to_csv('src/pedestrian_labels_and_test_and_train_separation.csv')"
   ]
  },
  {
   "cell_type": "code",
   "execution_count": 8,
   "metadata": {
    "collapsed": false
   },
   "outputs": [
    {
     "data": {
      "text/plain": [
       "(36.95486026236454, 10, 995)"
      ]
     },
     "execution_count": 8,
     "metadata": {},
     "output_type": "execute_result"
    }
   ],
   "source": [
    "data['frames_number'].mean(), data['frames_number'].min(), data['frames_number'].max()"
   ]
  },
  {
   "cell_type": "code",
   "execution_count": 9,
   "metadata": {
    "collapsed": false
   },
   "outputs": [
    {
     "data": {
      "text/plain": [
       "(10224, 2049)"
      ]
     },
     "execution_count": 9,
     "metadata": {},
     "output_type": "execute_result"
    }
   ],
   "source": [
    "len(train_indeces), len(test_indeces)"
   ]
  },
  {
   "cell_type": "code",
   "execution_count": 10,
   "metadata": {
    "collapsed": false
   },
   "outputs": [
    {
     "data": {
      "text/plain": [
       "(36.98092723004695, 36.8247925817472)"
      ]
     },
     "execution_count": 10,
     "metadata": {},
     "output_type": "execute_result"
    }
   ],
   "source": [
    "data[data['category'] == 'train']['frames_number'].mean(), data[data['category'] == 'test']['frames_number'].mean(),"
   ]
  },
  {
   "cell_type": "markdown",
   "metadata": {},
   "source": [
    "So we can see that mean amount of frames is almost equal in test and train sets"
   ]
  },
  {
   "cell_type": "code",
   "execution_count": 11,
   "metadata": {
    "collapsed": false
   },
   "outputs": [],
   "source": [
    "test_by_labels = data[data['category'] == 'test'].groupby(['label'])['frames_number'].count()"
   ]
  },
  {
   "cell_type": "code",
   "execution_count": 12,
   "metadata": {
    "collapsed": false
   },
   "outputs": [],
   "source": [
    "train_by_labels = data[data['category'] == 'train'].groupby(['label'])['frames_number'].count()"
   ]
  },
  {
   "cell_type": "code",
   "execution_count": 44,
   "metadata": {
    "collapsed": true
   },
   "outputs": [],
   "source": [
    "test_by_labels_normalized = test_by_labels.reindex(range(1, 26)) / len(test_indeces) * 100\n",
    "train_by_labels_normalized = train_by_labels.reindex(range(1,26)) / len(train_indeces) * 100"
   ]
  },
  {
   "cell_type": "code",
   "execution_count": 45,
   "metadata": {
    "collapsed": false
   },
   "outputs": [],
   "source": [
    "test_by_labels_normalized[test_by_labels_normalized.isnull()] = 0\n",
    "train_by_labels_normalized[train_by_labels_normalized.isnull()] = 0"
   ]
  },
  {
   "cell_type": "code",
   "execution_count": 82,
   "metadata": {
    "collapsed": false
   },
   "outputs": [
    {
     "data": {
      "image/png": "[encoded data removed]",
      "text/plain": [
       "<matplotlib.figure.Figure at 0x10fe4e10>"
      ]
     },
     "metadata": {},
     "output_type": "display_data"
    }
   ],
   "source": [
    "ind = np.arange(25)\n",
    "width = 0.4\n",
    "test_bar = plt.bar(ind - width/2, test_by_labels_normalized, width, color='r')\n",
    "train_bar = plt.bar(ind + width/2, train_by_labels_normalized, width, color='b')\n",
    "\n",
    "plt.ylabel('Percent')\n",
    "plt.xlabel('Label number')\n",
    "plt.title('Pedestrian percent by group and label')\n",
    "plt.xticks(ind + width/2., range(1, 26))\n",
    "plt.legend((test_bar[0], train_bar[0]), ('Test', 'Train'))\n",
    "plt.savefig('src/Plots/161002_pedestrian_separation_percent_by_label.png')"
   ]
  },
  {
   "cell_type": "code",
   "execution_count": null,
   "metadata": {
    "collapsed": true
   },
   "outputs": [],
   "source": []
  }
 ],
 "metadata": {
  "kernelspec": {
   "display_name": "Python 3",
   "language": "python",
   "name": "python3"
  },
  "language_info": {
   "codemirror_mode": {
    "name": "ipython",
    "version": 3
   },
   "file_extension": ".py",
   "mimetype": "text/x-python",
   "name": "python",
   "nbconvert_exporter": "python",
   "pygments_lexer": "ipython3",
   "version": "3.5.1"
  }
 },
 "nbformat": 4,
 "nbformat_minor": 0
}
