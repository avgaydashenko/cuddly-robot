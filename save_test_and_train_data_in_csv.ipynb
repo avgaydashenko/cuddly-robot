{
 "cells": [
  {
   "cell_type": "markdown",
   "metadata": {},
   "source": [
    "# Save test and train data to csv to faster reading"
   ]
  },
  {
   "cell_type": "markdown",
   "metadata": {},
   "source": [
    "Note: for every pedestrian saves each ten point, e.g.: p1, ..., p10; p2, ..., p11; ..."
   ]
  },
  {
   "cell_type": "code",
   "execution_count": 1,
   "metadata": {
    "collapsed": true
   },
   "outputs": [],
   "source": [
    "import pandas as pd"
   ]
  },
  {
   "cell_type": "code",
   "execution_count": 2,
   "metadata": {
    "collapsed": true
   },
   "outputs": [],
   "source": [
    "ZERO_PADDING = 6\n",
    "\n",
    "def get_filename(index):\n",
    "    return \"src/Csv/{}.txt\".format(str(index).zfill(ZERO_PADDING))\n",
    "\n",
    "NUMBER_OF_PEDESTRIANS = 12273\n",
    "\n",
    "def download_pedestrian(index):\n",
    "    error_message_template = \"Pedestrian number should be between 0 and {max}; given number: {id}\"\n",
    "    assert(0 <= index < NUMBER_OF_PEDESTRIANS), error_message_template.format(max=NUMBER_OF_PEDESTRIANS-1, id=index)\n",
    "    filename = get_filename(index)\n",
    "    data = pd.read_csv(filename, index_col=0)\n",
    "    return data"
   ]
  },
  {
   "cell_type": "code",
   "execution_count": 3,
   "metadata": {
    "collapsed": true
   },
   "outputs": [],
   "source": [
    "# in each row: {index; category; frames_number; label}\n",
    "labels = pd.read_csv('src/pedestrian_labels_and_test_and_train_separation.csv', index_col=0)"
   ]
  },
  {
   "cell_type": "code",
   "execution_count": 20,
   "metadata": {
    "collapsed": false
   },
   "outputs": [],
   "source": [
    "train_data = pd.DataFrame()\n",
    "test_data = pd.DataFrame()\n",
    "\n",
    "for index in range(NUMBER_OF_PEDESTRIANS):\n",
    "    pedestrian_data = pd.DataFrame()\n",
    "    \n",
    "    # in each row: {index (time); X; Y}    \n",
    "    all_data = download_pedestrian(index)[['X', 'Y']]\n",
    "    \n",
    "    for i in range(len(all_data) - 9):\n",
    "        # we want only serial data\n",
    "        if all_data.index.values[i + 9] - all_data.index.values[i] == 180:\n",
    "            pedestrian_data = pd.concat([pedestrian_data, all_data[i:i+10].reset_index()[['X', 'Y']]], axis=1)  \n",
    "    \n",
    "    if labels['category'][index] == 'train':\n",
    "        # in each row: {X; Y; X; Y; ...}\n",
    "        train_data = pd.concat([train_data, pedestrian_data], axis=1)\n",
    "    else:    \n",
    "        test_data = pd.concat([test_data, pedestrian_data], axis=1)"
   ]
  },
  {
   "cell_type": "code",
   "execution_count": 23,
   "metadata": {
    "collapsed": true
   },
   "outputs": [],
   "source": [
    "test_data.to_csv('src/test_data_points.csv')\n",
    "train_data.to_csv('src/train_data_points.csv')"
   ]
  }
 ],
 "metadata": {
  "kernelspec": {
   "display_name": "Python 3",
   "language": "python",
   "name": "python3"
  },
  "language_info": {
   "codemirror_mode": {
    "name": "ipython",
    "version": 3
   },
   "file_extension": ".py",
   "mimetype": "text/x-python",
   "name": "python",
   "nbconvert_exporter": "python",
   "pygments_lexer": "ipython3",
   "version": "3.5.1"
  }
 },
 "nbformat": 4,
 "nbformat_minor": 0
}
