{
 "cells": [
  {
   "cell_type": "code",
   "execution_count": 14,
   "metadata": {
    "collapsed": false
   },
   "outputs": [
    {
     "data": {
      "text/plain": [
       "<Lua table at 0x40bfac40>"
      ]
     },
     "execution_count": 14,
     "metadata": {},
     "output_type": "execute_result"
    }
   ],
   "source": [
    "import lutorpy as lua\n",
    "import numpy as np\n",
    "import matplotlib.pyplot as plt\n",
    "\n",
    "%matplotlib inline\n",
    "\n",
    "require(\"nn\")\n",
    "require(\"optim\")"
   ]
  },
  {
   "cell_type": "code",
   "execution_count": 78,
   "metadata": {
    "collapsed": false
   },
   "outputs": [],
   "source": [
    "mlp = nn.Sequential()\n",
    "mlp._add(nn.Linear(2, 20)) # 2 input nodes, 20 hidden nodes\n",
    "mlp._add(nn.Tanh())\n",
    "mlp._add(nn.Linear(20, 1)) # 1 output nodes\n",
    "criterion = nn.MSECriterion() \n",
    "\n",
    "inputs = torch.fromNumpyArray(np.array([1, 1]).astype(float))    # normally distributed example in 2d\n",
    "output = torch.Tensor(1)\n",
    "if inputs[0]*inputs[1] > 0:  # calculate label for XOR function\n",
    "    output[0] = -1 # output[0] = -1\n",
    "else:\n",
    "    output[0] = 1 # output[0] = 1\n",
    "    \n",
    "# feed it to the neural network and the criterion\n",
    "criterion._forward(mlp._forward(inputs), output)\n",
    "# train over this example in 3 steps\n",
    "# (1) zero the accumulation of the gradients\n",
    "mlp._zeroGradParameters()\n",
    "# (2) accumulate gradients\n",
    "mlp._backward(inputs, criterion.backward(criterion, mlp.output, output))\n",
    "# (3) update parameters with a 0.01 learning rate\n",
    "mlp._updateParameters(0.01)"
   ]
  },
  {
   "cell_type": "code",
   "execution_count": 76,
   "metadata": {
    "collapsed": true
   },
   "outputs": [],
   "source": [
    "inputs = torch.fromNumpyArray(np.array([1, 1]))  \n",
    "output = torch.Tensor(1)\n",
    "if inputs[0]*inputs[1] > 0:  # calculate label for XOR function\n",
    "    output[0] = -1 # output[0] = -1\n",
    "else:\n",
    "    output[0] = 1 # output[0] = 1"
   ]
  },
  {
   "cell_type": "code",
   "execution_count": 77,
   "metadata": {
    "collapsed": false
   },
   "outputs": [
    {
     "ename": "LuaError",
     "evalue": "...gaydashenko/torch/install/share/lua/5.1/nn/Container.lua:67: \nIn 1 module of nn.Sequential:\n/home/gaydashenko/torch/install/share/lua/5.1/nn/Linear.lua:57: invalid arguments: DoubleTensor number DoubleTensor LongTensor \nexpected arguments: *DoubleTensor~1D* [DoubleTensor~1D] [double] DoubleTensor~2D DoubleTensor~1D | *DoubleTensor~1D* double [DoubleTensor~1D] double DoubleTensor~2D DoubleTensor~1D\nstack traceback:\n\t[C]: in function 'addmv'\n\t/home/gaydashenko/torch/install/share/lua/5.1/nn/Linear.lua:57: in function </home/gaydashenko/torch/install/share/lua/5.1/nn/Linear.lua:53>\n\t[C]: in function 'xpcall'\n\t...gaydashenko/torch/install/share/lua/5.1/nn/Container.lua:63: in function 'rethrowErrors'\n\t...aydashenko/torch/install/share/lua/5.1/nn/Sequential.lua:44: in function <...aydashenko/torch/install/share/lua/5.1/nn/Sequential.lua:41>\n\nWARNING: If you see a stack trace below, it doesn't point to the place where this error occurred. Please use only the one above.",
     "output_type": "error",
     "traceback": [
      "\u001b[0;31m---------------------------------------------------------------------------\u001b[0m",
      "\u001b[0;31mLuaError\u001b[0m                                  Traceback (most recent call last)",
      "\u001b[0;32m<ipython-input-77-e4767fe355b4>\u001b[0m in \u001b[0;36m<module>\u001b[0;34m()\u001b[0m\n\u001b[0;32m----> 1\u001b[0;31m \u001b[0mmlp\u001b[0m\u001b[0;34m.\u001b[0m\u001b[0m_forward\u001b[0m\u001b[0;34m(\u001b[0m\u001b[0minputs\u001b[0m\u001b[0;34m)\u001b[0m\u001b[0;34m\u001b[0m\u001b[0m\n\u001b[0m",
      "\u001b[0;32mlutorpy/_lupa.pyx\u001b[0m in \u001b[0;36mlutorpy._lupa._LuaObject.__getattr__.self_prepending_function (lutorpy/_lupa.c:10774)\u001b[0;34m()\u001b[0m\n",
      "\u001b[0;32mlutorpy/_lupa.pyx\u001b[0m in \u001b[0;36mlutorpy._lupa._LuaObject.__call__ (lutorpy/_lupa.c:9459)\u001b[0;34m()\u001b[0m\n",
      "\u001b[0;32mlutorpy/_lupa.pyx\u001b[0m in \u001b[0;36mlutorpy._lupa.call_lua (lutorpy/_lupa.c:25877)\u001b[0;34m()\u001b[0m\n",
      "\u001b[0;32mlutorpy/_lupa.pyx\u001b[0m in \u001b[0;36mlutorpy._lupa.execute_lua_call (lutorpy/_lupa.c:25987)\u001b[0;34m()\u001b[0m\n",
      "\u001b[0;32mlutorpy/_lupa.pyx\u001b[0m in \u001b[0;36mlutorpy._lupa.raise_lua_error (lutorpy/_lupa.c:25297)\u001b[0;34m()\u001b[0m\n",
      "\u001b[0;31mLuaError\u001b[0m: ...gaydashenko/torch/install/share/lua/5.1/nn/Container.lua:67: \nIn 1 module of nn.Sequential:\n/home/gaydashenko/torch/install/share/lua/5.1/nn/Linear.lua:57: invalid arguments: DoubleTensor number DoubleTensor LongTensor \nexpected arguments: *DoubleTensor~1D* [DoubleTensor~1D] [double] DoubleTensor~2D DoubleTensor~1D | *DoubleTensor~1D* double [DoubleTensor~1D] double DoubleTensor~2D DoubleTensor~1D\nstack traceback:\n\t[C]: in function 'addmv'\n\t/home/gaydashenko/torch/install/share/lua/5.1/nn/Linear.lua:57: in function </home/gaydashenko/torch/install/share/lua/5.1/nn/Linear.lua:53>\n\t[C]: in function 'xpcall'\n\t...gaydashenko/torch/install/share/lua/5.1/nn/Container.lua:63: in function 'rethrowErrors'\n\t...aydashenko/torch/install/share/lua/5.1/nn/Sequential.lua:44: in function <...aydashenko/torch/install/share/lua/5.1/nn/Sequential.lua:41>\n\nWARNING: If you see a stack trace below, it doesn't point to the place where this error occurred. Please use only the one above."
     ]
    }
   ],
   "source": [
    "mlp._forward(inputs)"
   ]
  },
  {
   "cell_type": "code",
   "execution_count": null,
   "metadata": {
    "collapsed": true
   },
   "outputs": [],
   "source": []
  }
 ],
 "metadata": {
  "anaconda-cloud": {},
  "kernelspec": {
   "display_name": "Python [conda root]",
   "language": "python",
   "name": "conda-root-py"
  },
  "language_info": {
   "codemirror_mode": {
    "name": "ipython",
    "version": 3
   },
   "file_extension": ".py",
   "mimetype": "text/x-python",
   "name": "python",
   "nbconvert_exporter": "python",
   "pygments_lexer": "ipython3",
   "version": "3.5.2"
  }
 },
 "nbformat": 4,
 "nbformat_minor": 1
}
