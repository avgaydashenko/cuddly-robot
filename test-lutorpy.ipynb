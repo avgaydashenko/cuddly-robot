{
 "cells": [
  {
   "cell_type": "code",
   "execution_count": 48,
   "metadata": {
    "collapsed": false
   },
   "outputs": [
    {
     "data": {
      "text/plain": [
       "<Lua table at 0x41e971e8>"
      ]
     },
     "execution_count": 48,
     "metadata": {},
     "output_type": "execute_result"
    }
   ],
   "source": [
    "import lutorpy as lua\n",
    "import numpy as np\n",
    "import matplotlib.pyplot as plt\n",
    "\n",
    "%matplotlib inline\n",
    "\n",
    "require(\"nn\")\n",
    "require(\"cunn\")\n",
    "require(\"optim\")\n",
    "require(\"cutorch\")\n",
    "require(\"sys\")"
   ]
  },
  {
   "cell_type": "code",
   "execution_count": 50,
   "metadata": {
    "collapsed": false
   },
   "outputs": [
    {
     "data": {
      "text/plain": [
       "array([2, 2, 9])"
      ]
     },
     "execution_count": 50,
     "metadata": {},
     "output_type": "execute_result"
    }
   ],
   "source": [
    "a = np.array([[1, 2], [1, 2], [3, 3]])\n",
    "a[:,0] * a[:,1]"
   ]
  },
  {
   "cell_type": "code",
   "execution_count": 91,
   "metadata": {
    "collapsed": true
   },
   "outputs": [],
   "source": [
    "mlp = nn.Sequential()\n",
    "mlp._add(nn.Linear(2, 20)) # 2 input nodes, 20 hidden nodes\n",
    "mlp._add(nn.Tanh())\n",
    "mlp._add(nn.Linear(20, 1)) # 1 output nodes\n",
    "criterion = nn.MSECriterion() \n",
    "\n",
    "for i in range(2500):\n",
    "    # random sample\n",
    "    inputs = np.random.rand(10, 2) - 0.5\n",
    "    outputs = inputs[:,0] * inputs[:,1]\n",
    "    outputs[outputs <= 0] = -1\n",
    "    outputs[outputs > 0] = 1\n",
    "    \n",
    "    inputs = torch.fromNumpyArray(inputs)\n",
    "    outputs = torch.fromNumpyArray(outputs)\n",
    "    \n",
    "    # feed it to the neural network and the criterion\n",
    "    criterion._forward(mlp._forward(inputs), outputs)\n",
    "    # train over this example in 3 steps\n",
    "    # (1) zero the accumulation of the gradients\n",
    "    mlp._zeroGradParameters()\n",
    "    # (2) accumulate gradients\n",
    "    mlp._backward(inputs, criterion.backward(criterion, mlp.output, outputs))\n",
    "    # (3) update parameters with a 0.01 learning rate\n",
    "    mlp._updateParameters(0.01)"
   ]
  },
  {
   "cell_type": "code",
   "execution_count": 92,
   "metadata": {
    "collapsed": false
   },
   "outputs": [
    {
     "name": "stdout",
     "output_type": "stream",
     "text": [
      " 0.7830\n",
      "[torch.DoubleTensor of size 1]\n",
      "\n",
      "-0.1689\n",
      "[torch.DoubleTensor of size 1]\n",
      "\n",
      "-0.4102\n",
      "[torch.DoubleTensor of size 1]\n",
      "\n",
      " 0.8692\n",
      "[torch.DoubleTensor of size 1]\n",
      "\n"
     ]
    }
   ],
   "source": [
    "x = torch.Tensor(2)\n",
    "x[0] =  0.5; x[1] =  0.5; print(mlp._forward(x))\n",
    "x[0] =  0.5; x[1] = -0.5; print(mlp._forward(x))\n",
    "x[0] = -0.5; x[1] =  0.5; print(mlp._forward(x))\n",
    "x[0] = -0.5; x[1] = -0.5; print(mlp._forward(x))"
   ]
  },
  {
   "cell_type": "code",
   "execution_count": 87,
   "metadata": {
    "collapsed": true
   },
   "outputs": [],
   "source": [
    "inputs = np.random.rand(10, 2) - 0.5\n",
    "outputs = inputs[:,0] * inputs[:,1]\n",
    "outputs[outputs <= 0] = -1\n",
    "outputs[outputs > 0] = 1"
   ]
  },
  {
   "cell_type": "code",
   "execution_count": 88,
   "metadata": {
    "collapsed": false
   },
   "outputs": [
    {
     "data": {
      "text/plain": [
       "array([[ 0.35741092,  0.10006318],\n",
       "       [ 0.44900344,  0.07345251],\n",
       "       [ 0.12470545, -0.26650764],\n",
       "       [-0.11622758,  0.28117714],\n",
       "       [ 0.08925671, -0.13176356],\n",
       "       [ 0.23064719, -0.48007982],\n",
       "       [-0.24449293, -0.06026203],\n",
       "       [-0.2374118 , -0.03952486],\n",
       "       [-0.01668947,  0.09387105],\n",
       "       [-0.30678585, -0.00361458]])"
      ]
     },
     "execution_count": 88,
     "metadata": {},
     "output_type": "execute_result"
    }
   ],
   "source": [
    "inputs"
   ]
  },
  {
   "cell_type": "code",
   "execution_count": 93,
   "metadata": {
    "collapsed": true
   },
   "outputs": [],
   "source": [
    "mlp = nn.Sequential()\n",
    "mlp._add(nn.Linear(2, 20)) # 2 input nodes, 20 hidden nodes\n",
    "mlp._add(nn.Tanh())\n",
    "mlp._add(nn.Linear(20, 1)) # 1 output nodes\n",
    "criterion = nn.MSECriterion() \n",
    "for i in range(2500):\n",
    "    # random sample\n",
    "    input= torch.randn(2)    # normally distributed example in 2d\n",
    "    output= torch.Tensor(1)\n",
    "    if input[0]*input[1] > 0:  # calculate label for XOR function\n",
    "        output[0] = -1 # output[0] = -1\n",
    "    else:\n",
    "        output[0] = 1 # output[0] = 1\n",
    "    # feed it to the neural network and the criterion\n",
    "    criterion._forward(mlp._forward(input), output)\n",
    "    # train over this example in 3 steps\n",
    "    # (1) zero the accumulation of the gradients\n",
    "    mlp._zeroGradParameters()\n",
    "    # (2) accumulate gradients\n",
    "    mlp._backward(input, criterion.backward(criterion, mlp.output, output))\n",
    "    # (3) update parameters with a 0.01 learning rate\n",
    "    mlp._updateParameters(0.01)"
   ]
  },
  {
   "cell_type": "code",
   "execution_count": 94,
   "metadata": {
    "collapsed": false
   },
   "outputs": [
    {
     "name": "stdout",
     "output_type": "stream",
     "text": [
      "-0.5097\n",
      "[torch.DoubleTensor of size 1]\n",
      "\n",
      " 0.9393\n",
      "[torch.DoubleTensor of size 1]\n",
      "\n",
      " 0.6617\n",
      "[torch.DoubleTensor of size 1]\n",
      "\n",
      "-0.7073\n",
      "[torch.DoubleTensor of size 1]\n",
      "\n"
     ]
    }
   ],
   "source": [
    "x = torch.Tensor(2)\n",
    "x[0] =  0.5; x[1] =  0.5; print(mlp._forward(x))\n",
    "x[0] =  0.5; x[1] = -0.5; print(mlp._forward(x))\n",
    "x[0] = -0.5; x[1] =  0.5; print(mlp._forward(x))\n",
    "x[0] = -0.5; x[1] = -0.5; print(mlp._forward(x))"
   ]
  },
  {
   "cell_type": "code",
   "execution_count": null,
   "metadata": {
    "collapsed": true
   },
   "outputs": [],
   "source": []
  }
 ],
 "metadata": {
  "anaconda-cloud": {},
  "kernelspec": {
   "display_name": "Python [conda root]",
   "language": "python",
   "name": "conda-root-py"
  },
  "language_info": {
   "codemirror_mode": {
    "name": "ipython",
    "version": 3
   },
   "file_extension": ".py",
   "mimetype": "text/x-python",
   "name": "python",
   "nbconvert_exporter": "python",
   "pygments_lexer": "ipython3",
   "version": "3.5.2"
  }
 },
 "nbformat": 4,
 "nbformat_minor": 1
}
