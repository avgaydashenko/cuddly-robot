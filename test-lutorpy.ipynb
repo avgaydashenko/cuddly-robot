{
 "cells": [
  {
   "cell_type": "code",
   "execution_count": 25,
   "metadata": {
    "collapsed": true
   },
   "outputs": [],
   "source": [
    "import lutorpy as lua\n",
    "import numpy as np\n",
    "import matplotlib.pyplot as plt\n",
    "\n",
    "%matplotlib inline"
   ]
  },
  {
   "cell_type": "code",
   "execution_count": 9,
   "metadata": {
    "collapsed": false
   },
   "outputs": [
    {
     "data": {
      "text/plain": [
       "<Lua table at 0x4174e170>"
      ]
     },
     "execution_count": 9,
     "metadata": {},
     "output_type": "execute_result"
    }
   ],
   "source": [
    "require(\"nn\")"
   ]
  },
  {
   "cell_type": "code",
   "execution_count": 22,
   "metadata": {
    "collapsed": false
   },
   "outputs": [
    {
     "data": {
      "text/plain": [
       "<Lua table at 0x410af1e8>"
      ]
     },
     "execution_count": 22,
     "metadata": {},
     "output_type": "execute_result"
    }
   ],
   "source": [
    "# minimal example of multi-layer perception(without training code)\n",
    "mlp = nn.Sequential()\n",
    "mlp._add(nn.Linear(100, 30))\n",
    "mlp._add(nn.Tanh())\n",
    "mlp._add(nn.Linear(30, 10))"
   ]
  },
  {
   "cell_type": "code",
   "execution_count": 23,
   "metadata": {
    "collapsed": false
   },
   "outputs": [
    {
     "name": "stdout",
     "output_type": "stream",
     "text": [
      "-0.2665\n",
      "-0.0735\n",
      " 0.7400\n",
      "-0.2511\n",
      "-0.4166\n",
      "-0.2414\n",
      "-0.1211\n",
      " 0.5000\n",
      "-0.2814\n",
      " 0.4170\n",
      "[torch.DoubleTensor of size 10]\n",
      "\n"
     ]
    }
   ],
   "source": [
    "## generate a numpy array and convert it to torch tensor\n",
    "xn = np.random.randn(100)\n",
    "xt = torch.fromNumpyArray(xn)\n",
    "## process with the neural network\n",
    "yt = mlp._forward(xt)\n",
    "print(yt)"
   ]
  },
  {
   "cell_type": "code",
   "execution_count": 26,
   "metadata": {
    "collapsed": false
   },
   "outputs": [
    {
     "data": {
      "text/plain": [
       "[<matplotlib.lines.Line2D at 0x7f8d86979630>]"
      ]
     },
     "execution_count": 26,
     "metadata": {},
     "output_type": "execute_result"
    },
    {
     "data": {
      "image/png": "[encoded data removed]",
      "text/plain": [
       "<matplotlib.figure.Figure at 0x7f8d8b83e128>"
      ]
     },
     "metadata": {},
     "output_type": "display_data"
    }
   ],
   "source": [
    "## or for example, you can plot your result with matplotlib\n",
    "yn = yt.asNumpyArray()\n",
    "plt.plot(yn)"
   ]
  },
  {
   "cell_type": "code",
   "execution_count": null,
   "metadata": {
    "collapsed": true
   },
   "outputs": [],
   "source": []
  }
 ],
 "metadata": {
  "anaconda-cloud": {},
  "kernelspec": {
   "display_name": "Python [conda root]",
   "language": "python",
   "name": "conda-root-py"
  },
  "language_info": {
   "codemirror_mode": {
    "name": "ipython",
    "version": 3
   },
   "file_extension": ".py",
   "mimetype": "text/x-python",
   "name": "python",
   "nbconvert_exporter": "python",
   "pygments_lexer": "ipython3",
   "version": "3.5.2"
  }
 },
 "nbformat": 4,
 "nbformat_minor": 1
}
