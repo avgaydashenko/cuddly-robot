{
 "cells": [
  {
   "cell_type": "markdown",
   "metadata": {
    "collapsed": true
   },
   "source": [
    "# 1. Common import"
   ]
  },
  {
   "cell_type": "code",
   "execution_count": null,
   "metadata": {
    "collapsed": true
   },
   "outputs": [],
   "source": [
    "import numpy as np\n",
    "import pandas as pd\n",
    "import matplotlib.pyplot as plt\n",
    "\n",
    "%matplotlib inline\n",
    "\n",
    "plt.style.use('ggplot')\n",
    "plt.rcParams['figure.figsize'] = (15, 7)"
   ]
  },
  {
   "cell_type": "markdown",
   "metadata": {},
   "source": [
    "# 2. Frame size"
   ]
  },
  {
   "cell_type": "code",
   "execution_count": null,
   "metadata": {
    "collapsed": true
   },
   "outputs": [],
   "source": [
    "FRAME_WIDTH = 1920\n",
    "FRAME_HEIGHT = 1080"
   ]
  },
  {
   "cell_type": "markdown",
   "metadata": {},
   "source": [
    "# 3. Filename from index"
   ]
  },
  {
   "cell_type": "code",
   "execution_count": null,
   "metadata": {
    "collapsed": true
   },
   "outputs": [],
   "source": [
    "ZERO_PADDING = 6\n",
    "\n",
    "def get_filename(index):\n",
    "    return \"src/Csv/{}.txt\".format(str(index).zfill(ZERO_PADDING))"
   ]
  },
  {
   "cell_type": "markdown",
   "metadata": {},
   "source": [
    "# 4. Pedestrian info"
   ]
  },
  {
   "cell_type": "code",
   "execution_count": null,
   "metadata": {
    "collapsed": true
   },
   "outputs": [],
   "source": [
    "NUMBER_OF_PEDESTRIANS = 12273\n",
    "\n",
    "def download_pedestrian(index):\n",
    "    error_message_template = \"pedestrian_separation_to_test_and_train_according_to_start_point.ipynbestrian number should be between 0 and {max}; given number: {id}\"\n",
    "    assert(0 <= index < NUMBER_OF_PEDESTRIANS), error_message_template.format(max=NUMBER_OF_PEDESTRIANS-1, id=index)\n",
    "    filename = get_filename(index)\n",
    "    data = pd.read_csv(filename, index_col=0)\n",
    "    return data"
   ]
  },
  {
   "cell_type": "markdown",
   "metadata": {},
   "source": [
    "# 5. Create and save plot.bar"
   ]
  },
  {
   "cell_type": "code",
   "execution_count": null,
   "metadata": {
    "collapsed": true
   },
   "outputs": [],
   "source": [
    "ind = np.arange(25)\n",
    "width = 0.4\n",
    "test_bar = plt.bar(ind - width/2, test_by_labels_normalized, width, color='r')\n",
    "train_bar = plt.bar(ind + width/2, train_by_labels_normalized, width, color='b')\n",
    "\n",
    "plt.ylabel('Percent')\n",
    "plt.xlabel('Label number')\n",
    "plt.title('Pedestrian percent by group and label')\n",
    "plt.xticks(ind + width/2., range(1, 26))\n",
    "plt.legend((test_bar[0], train_bar[0]), ('Test', 'Train'))\n",
    "plt.savefig('src/Plots/161002_pedestrian_separation_percent_by_label.png')"
   ]
  },
  {
   "cell_type": "markdown",
   "metadata": {},
   "source": [
    "# 6. Distances between arrays"
   ]
  },
  {
   "cell_type": "code",
   "execution_count": null,
   "metadata": {
    "collapsed": true
   },
   "outputs": [],
   "source": [
    "# array1: [sX1; sY1; sX2; sY2; ...]\n",
    "# array2: [eX1; eY1; eX2; eY2; ...]\n",
    "# output: [dist((sX1, sY1), (eX1, eY1)), dist((sX1, sY1), (eX1, eY1)),\n",
    "#          dist((sX2, sY2), (eX2, eY2)), dist((sX2, sY2), (eX2, eY2)), ...]\n",
    "\n",
    "def distance_for_each_point(array1, array2):\n",
    "    error_template = \"Array lengths should be equal. len(array1): {len1}, len(array2): {len2}\"\n",
    "    assert (len(array1) == len(array2)), error_template.format(len1=len(array1), len2=len(array2))\n",
    "    \n",
    "    length = len(array1)\n",
    "    distance = np.array([np.linalg.norm(array1[i:i+2] - array2[i:i+2]) for i in range(0,length,2)])\n",
    "    distance = np.array([[d, d] for d in distance]).flatten()"
   ]
  }
 ],
 "metadata": {
  "kernelspec": {
   "display_name": "Python 3",
   "language": "python",
   "name": "python3"
  },
  "language_info": {
   "codemirror_mode": {
    "name": "ipython",
    "version": 3
   },
   "file_extension": ".py",
   "mimetype": "text/x-python",
   "name": "python",
   "nbconvert_exporter": "python",
   "pygments_lexer": "ipython3",
   "version": "3.5.1"
  }
 },
 "nbformat": 4,
 "nbformat_minor": 0
}
