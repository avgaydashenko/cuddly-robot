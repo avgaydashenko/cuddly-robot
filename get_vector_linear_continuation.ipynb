{
 "cells": [
  {
   "cell_type": "code",
   "execution_count": 2,
   "metadata": {
    "collapsed": true
   },
   "outputs": [],
   "source": [
    "import numpy as np"
   ]
  },
  {
   "cell_type": "code",
   "execution_count": 3,
   "metadata": {
    "collapsed": true
   },
   "outputs": [],
   "source": [
    "# input consists of list of five points\n",
    "# function get last two of them, build a vector with the same direction but quintuplied length\n",
    "# and returns %number_of_points_to_return% points (5 by default) on this vector\n",
    "# (with equal distance between them)\n",
    "def get_vector_linear_continuation(input_list, number_of_points_to_return=5):\n",
    "    last_but_one_point = np.array(input_list[-2])\n",
    "    last_point = np.array(input_list[-1])\n",
    "    motion_vector = last_point - last_but_one_point\n",
    "    result = []\n",
    "    for i in range(number_of_points_to_return):\n",
    "        result.append(last_point + (i + 1) * motion_vector)\n",
    "    return result"
   ]
  },
  {
   "cell_type": "code",
   "execution_count": 5,
   "metadata": {
    "collapsed": false
   },
   "outputs": [
    {
     "name": "stdout",
     "output_type": "stream",
     "text": [
      "[array([5, 5]), array([6, 6])]\n"
     ]
    }
   ],
   "source": [
    "if __name__ == '__main__':\n",
    "    input_list = []\n",
    "    for i in range(5):\n",
    "        input_list.append([i,i])\n",
    "    \n",
    "    print(get_vector_linear_continuation(input_list, 2))"
   ]
  }
 ],
 "metadata": {
  "kernelspec": {
   "display_name": "Python 3",
   "language": "python",
   "name": "python3"
  },
  "language_info": {
   "codemirror_mode": {
    "name": "ipython",
    "version": 3
   },
   "file_extension": ".py",
   "mimetype": "text/x-python",
   "name": "python",
   "nbconvert_exporter": "python",
   "pygments_lexer": "ipython3",
   "version": "3.5.1"
  }
 },
 "nbformat": 4,
 "nbformat_minor": 0
}
