{
 "cells": [
  {
   "cell_type": "code",
   "execution_count": 7,
   "metadata": {
    "collapsed": true
   },
   "outputs": [],
   "source": [
    "import numpy as np\n",
    "\n",
    "# to generate random pedestrians\n",
    "import random"
   ]
  },
  {
   "cell_type": "code",
   "execution_count": 6,
   "metadata": {
    "collapsed": true
   },
   "outputs": [],
   "source": [
    "# amount of data in src folder\n",
    "NUMBER_OF_PEDESTRIANS = 12684\n",
    "NUMBER_OF_FRAMES = 6001\n",
    "ZERO_PADDING = 6"
   ]
  },
  {
   "cell_type": "code",
   "execution_count": 4,
   "metadata": {
    "collapsed": true
   },
   "outputs": [],
   "source": [
    "# TODO: make import from get_vector_linear_continuation.ipynb\n",
    "\n",
    "def get_vector_linear_continuation(input_list, number_of_points_to_return=5):\n",
    "    last_but_one_point = np.array(input_list[-2])\n",
    "    last_point = np.array(input_list[-1])\n",
    "    motion_vector = last_point - last_but_one_point\n",
    "    result = []\n",
    "    for i in range(number_of_points_to_return):\n",
    "        result.append(last_point + (i + 1) * motion_vector)\n",
    "    return result"
   ]
  },
  {
   "cell_type": "code",
   "execution_count": 9,
   "metadata": {
    "collapsed": false
   },
   "outputs": [],
   "source": [
    "# how many examples to calculate distance difference\n",
    "number_of_random_pedestrians = 10\n",
    "distance_per_pedestrian = []\n",
    "\n",
    "for i in range(number_of_random_pedestrians):\n",
    "    pedestrian_id = random.randint(1, NUMBER_OF_PEDESTRIANS)\n",
    "    pedestrian_filename = \"{}.txt\".format(str(pedestrian_id).zfill(ZERO_PADDING))\n",
    "    \n",
    "    input_list = []\n",
    "    output_list = []\n",
    "    \n",
    "    with open('src/Annotation/' + pedestrian_filename) as file:\n",
    "        # get first five coordinates (x, y) from pedestrian's way in input_list\n",
    "        # and next five in output_list\n",
    "        i = 0\n",
    "        num_for_input = 3 * 5\n",
    "        num_for_output = num_for_input + 3 * 5\n",
    "        for line in file:\n",
    "            if i % 3 == 0: x = int(line)\n",
    "            if i % 3 == 1: y = int(line)\n",
    "            if i < num_for_input:\n",
    "                if i % 3 == 2: input_list.append([x, y])\n",
    "            elif i < num_for_output:\n",
    "                if i % 3 == 2: output_list.append([x, y])\n",
    "            i += 1    \n",
    "            \n",
    "        # if way of pedestrian is shorter than ten coordinates\n",
    "        if len(input_list) + len(output_list) != 10:\n",
    "            continue\n",
    "        \n",
    "        predicted_coordinates = np.array(get_vector_linear_continuation(input_list))\n",
    "        real_coordinates = np.array(output_list)\n",
    "        \n",
    "        sum_for_pedestrian = sum([np.linalg.norm(predicted_coordinates[i] - real_coordinates[i]) for i in range(5)])\n",
    "        distance_per_pedestrian.append(sum_for_pedestrian)"
   ]
  },
  {
   "cell_type": "code",
   "execution_count": 10,
   "metadata": {
    "collapsed": false
   },
   "outputs": [
    {
     "data": {
      "text/plain": [
       "[126.76111561693264,\n",
       " 257.65209371174717,\n",
       " 72.704691600093554,\n",
       " 65.33400498088082,\n",
       " 159.70532531098922,\n",
       " 103.85544119070684,\n",
       " 150.79953620051583,\n",
       " 51.510506533787193,\n",
       " 47.634661190266527,\n",
       " 303.59718367914297]"
      ]
     },
     "execution_count": 10,
     "metadata": {},
     "output_type": "execute_result"
    }
   ],
   "source": [
    "distance_per_pedestrian"
   ]
  }
 ],
 "metadata": {
  "kernelspec": {
   "display_name": "Python 3",
   "language": "python",
   "name": "python3"
  },
  "language_info": {
   "codemirror_mode": {
    "name": "ipython",
    "version": 3
   },
   "file_extension": ".py",
   "mimetype": "text/x-python",
   "name": "python",
   "nbconvert_exporter": "python",
   "pygments_lexer": "ipython3",
   "version": "3.5.1"
  }
 },
 "nbformat": 4,
 "nbformat_minor": 0
}
