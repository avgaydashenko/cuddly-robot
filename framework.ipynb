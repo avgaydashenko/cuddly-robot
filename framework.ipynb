{
 "cells": [
  {
   "cell_type": "code",
   "execution_count": 299,
   "metadata": {
    "collapsed": true
   },
   "outputs": [],
   "source": [
    "import numpy as np\n",
    "import pandas as pd\n",
    "import matplotlib.pyplot as plt\n",
    "\n",
    "from PIL import Image, ImageDraw\n",
    "from time import localtime, strftime\n",
    "\n",
    "%matplotlib inline\n",
    "\n",
    "plt.style.use('ggplot')\n",
    "plt.rcParams['figure.figsize'] = (15, 7)"
   ]
  },
  {
   "cell_type": "code",
   "execution_count": 300,
   "metadata": {
    "collapsed": true
   },
   "outputs": [],
   "source": [
    "# Number of samples in each class\n",
    "\n",
    "TEST_SAMPLE_NUMBER = 51745\n",
    "TRAIN_SAMPLE_NUMBER = 257367\n",
    "\n",
    "# array1: [sX1; sY1; sX2; sY2; ...]\n",
    "# array2: [eX1; eY1; eX2; eY2; ...]\n",
    "# output: [dist((sX1, sY1), (eX1, eY1)), dist((sX1, sY1), (eX1, eY1)),\n",
    "#          dist((sX2, sY2), (eX2, eY2)), dist((sX2, sY2), (eX2, eY2)), ...]\n",
    "\n",
    "def distance_for_each_point(array1, array2):\n",
    "    array_length = len(array1)\n",
    "    len2 = len(array2)\n",
    "    assert (array_length == len2), \"Arrays' sizes have to be equal (array1: {}, array2: {})\".format(array_length, len2)\n",
    "    \n",
    "    if array1.ndim == 1:\n",
    "        distance = np.linalg.norm((array1 - array2).reshape((int(array_length / 2), 2)), axis=1)\n",
    "        result = np.array([[d, d] for d in distance]).flatten()\n",
    "    else:\n",
    "        result = np.array([distance_for_each_point(array1[i], array2[i]) for i in range(array_length)])\n",
    "    \n",
    "    return result\n",
    "\n",
    "# metrics between real results (in tests) and predicted\n",
    "def distance(test_results, predicted_results):\n",
    "    return distance_for_each_point(np.array(test_results), predicted_results).sum() / TEST_SAMPLE_NUMBER / 2\n",
    "\n",
    "# data may be present as [n_features * n_samples] or [n_samples * n_features] \n",
    "# usually algorithms require second variant but I prefer first\n",
    "def to_model(df):\n",
    "    return np.array(df).T"
   ]
  },
  {
   "cell_type": "code",
   "execution_count": 301,
   "metadata": {
    "collapsed": true
   },
   "outputs": [],
   "source": [
    "# you need to pass as arguments function to execute, test_results to compare with predicted by function,\n",
    "# parameter_name to know results by which parameter you want to compare and list_of_values for this parameter\n",
    "# also you need to pass other argument which function will use \n",
    "# it's always some test_data and usually train_data and train_results\n",
    "\n",
    "def compare_results(function, test_results, parameter_name, list_of_values, **other_parameters):\n",
    "    result = [] # we will keep results for each configuration here\n",
    "\n",
    "    for i, value in enumerate(list_of_values):\n",
    "        print(\"{cur}/{num}: {t}\".format(cur=i+1, num=len(list_of_values), t=strftime(\"%Y-%m-%d %H:%M:%S\", localtime())))\n",
    "        other_parameters[parameter_name] = value        \n",
    "        predicted_results = function(**other_parameters)\n",
    "        np.save(\"src/Logs/{date}_predicted_coordinates_{function_name}_{parameter_name}_\".format(\n",
    "                date=strftime(\"%Y%m%d\", localtime()), function_name=function.__name__, parameter_name=parameter_name)\n",
    "                + str(value), predicted_results)\n",
    "        result.append(distance(test_results, predicted_results))\n",
    "        \n",
    "    print(\"done! {time}\".format(time=strftime(\"%Y-%m-%d %H:%M:%S\", localtime())))\n",
    "    print(\"Results: {}\".format(result))\n",
    "        \n",
    "    ind = list_of_values\n",
    "    number = len(ind)\n",
    "    width = 2 / number\n",
    "    result_bar = plt.bar(range(number), result, width, color='g')\n",
    "\n",
    "    plt.ylabel('Average difference')\n",
    "    plt.xlabel(parameter_name)\n",
    "    plt.title(\"Difference between real points and predicted by {parameter_name} in {function_name}\".format(\n",
    "        function_name=function.__name__, parameter_name=parameter_name))\n",
    "    plt.xticks(np.array(range(number)) + width/2, ind)\n",
    "    plt.savefig(\"src/Plots/{date}_{function_name}_difference_by_{parameter_name}.png\".format(\n",
    "        date=strftime(\"%Y%m%d\", localtime()), function_name=function.__name__, parameter_name=parameter_name))    "
   ]
  },
  {
   "cell_type": "code",
   "execution_count": 302,
   "metadata": {
    "collapsed": true
   },
   "outputs": [],
   "source": [
    "ZERO_PADDING = 6\n",
    "\n",
    "def get_filename(index):\n",
    "    return \"src/Csv/{}.txt\".format(str(index).zfill(ZERO_PADDING))\n",
    "\n",
    "def get_framename(index):\n",
    "    return \"src/Frame/{}.jpg\".format(str(index).zfill(ZERO_PADDING))\n",
    "\n",
    "NUMBER_OF_PEDESTRIANS = 12273\n",
    "\n",
    "def download_pedestrian(index):\n",
    "    assert(0 <= index < NUMBER_OF_PEDESTRIANS), \"pedestrian number should be between 0 and {max}; given number: {id}\".format(\n",
    "        max=NUMBER_OF_PEDESTRIANS-1, id=index)\n",
    "    filename = get_filename(index)\n",
    "    data = pd.read_csv(filename, index_col=0)\n",
    "    return data"
   ]
  },
  {
   "cell_type": "code",
   "execution_count": 303,
   "metadata": {
    "collapsed": true
   },
   "outputs": [],
   "source": [
    "def find_by_path(path, search_in_test=True):\n",
    "    \n",
    "    indeces = np.arange(NUMBER_OF_PEDESTRIANS)\n",
    "    if search_in_test:\n",
    "        pedestrian_separation = pd.read_csv('src/pedestrian_labels_and_test_and_train_separation.csv', index_col=0)\n",
    "        indeces = np.where(np.array(pedestrian_separation['category']) == 'test')[0]\n",
    "        \n",
    "    path = path.flatten()    \n",
    "    len2 = len(path)\n",
    "        \n",
    "    for i in indeces:\n",
    "        df = download_pedestrian(i)\n",
    "        data = np.array(df).flatten()\n",
    "        len1 = len(data)\n",
    "        data_view = np.lib.stride_tricks.as_strided(data, shape=(len1 - len2 + 1, len2),\n",
    "                                                    strides=(data.dtype.itemsize,) * 2)[::2, :]\n",
    "        \n",
    "        ind = np.where(np.all(data_view == path, axis=1))[0]\n",
    "        if len(ind) > 0:\n",
    "            return (i, df.index.values[ind[0]])"
   ]
  },
  {
   "cell_type": "code",
   "execution_count": 304,
   "metadata": {
    "collapsed": false
   },
   "outputs": [],
   "source": [
    "def make_view(data, length, only_odd_rows=True):\n",
    "    data = np.array(data).flatten()\n",
    "    len1 = len(data)\n",
    "    len2 = length\n",
    "    return np.lib.stride_tricks.as_strided(data, shape=(len1 - len2 + 1, len2),\n",
    "                                                    strides=(data.dtype.itemsize,) * 2)[::2 if only_odd_rows else 1, :]"
   ]
  },
  {
   "cell_type": "code",
   "execution_count": 297,
   "metadata": {
    "collapsed": true
   },
   "outputs": [],
   "source": [
    "def draw_lines(frame_number, paths, colors, image_name, draw_line=True):\n",
    "    im = Image.open(get_framename(frame_number))\n",
    "    draw = ImageDraw.Draw(im)\n",
    "    for path, color in zip(paths, colors):\n",
    "        if draw_line:\n",
    "            path_view = make_view(path, 4)\n",
    "            for line in path_view:\n",
    "                draw.line(tuple(line), width=4, fill=color)\n",
    "        else:\n",
    "            for point in path:\n",
    "                draw.ellipse(tuple(np.append(point, point+10)), fill=color)\n",
    "\n",
    "    im.save(\"src/Images/{name}.jpg\".format(name=image_name))"
   ]
  },
  {
   "cell_type": "code",
   "execution_count": 305,
   "metadata": {
    "collapsed": true
   },
   "outputs": [],
   "source": [
    "# reading data from .csv files\n",
    "\n",
    "test_data = pd.read_csv('src/test_data_points.csv', index_col=0)\n",
    "train_data = pd.read_csv('src/train_data_points.csv', index_col=0)\n",
    "\n",
    "# split ten frames in input and output data (we want to predict output by input)\n",
    "\n",
    "test_results = test_data[5:10]\n",
    "test_data = test_data[:5]\n",
    "\n",
    "train_results = train_data[5:10]\n",
    "train_data = train_data[:5]"
   ]
  },
  {
   "cell_type": "code",
   "execution_count": 307,
   "metadata": {
    "collapsed": true
   },
   "outputs": [],
   "source": [
    "from sklearn.neighbors import KNeighborsRegressor\n",
    "\n",
    "# n_neighbors by defalt is 5;         to compare: range(5, 55, 5)\n",
    "# weights     by defalt is 'uniform'; to compare: ['uniform', 'distance']\n",
    "# algorithm   by defalt is 'auto';    to compare: ['auto', 'ball_tree', 'kd_tree', 'brute']\n",
    "# note: 'brute' is causing some memory error\n",
    "\n",
    "def kneighbors_regressor(train_data, train_results, test_data, **kwargs):\n",
    "    neigh = KNeighborsRegressor(**kwargs)\n",
    "    neigh.fit(to_model(train_data), to_model(train_results))\n",
    "    return (neigh.predict(to_model(test_data))).T"
   ]
  },
  {
   "cell_type": "markdown",
   "metadata": {},
   "source": [
    "There is no difference which algorithm to use: ball_tree or kd_tree but kd_tree works faster. Also between 'uniform' and 'distance' (parameter weights) there is no difference neither.\n",
    "The optimal n_neighbors is 20."
   ]
  },
  {
   "cell_type": "markdown",
   "metadata": {
    "collapsed": true
   },
   "source": [
    "Note: I deleted some cells with comparison. You could find them in previous versions of this notebook on github."
   ]
  },
  {
   "cell_type": "code",
   "execution_count": 308,
   "metadata": {
    "collapsed": false
   },
   "outputs": [
    {
     "name": "stdout",
     "output_type": "stream",
     "text": [
      "1/7: 2016-10-17 15:26:55\n",
      "2/7: 2016-10-17 15:27:07\n",
      "3/7: 2016-10-17 15:27:20\n",
      "4/7: 2016-10-17 15:27:35\n",
      "5/7: 2016-10-17 15:27:50\n",
      "6/7: 2016-10-17 15:28:05\n",
      "7/7: 2016-10-17 15:28:21\n",
      "done! 2016-10-17 15:28:37\n",
      "Results: [113.17510673975144, 108.87199000064523, 107.84029387209145, 107.59976829474584, 107.6816907993154, 107.80930973659719, 107.98541703734323]\n"
     ]
    },
    {
     "data": {
      "image/png": "[encoded data removed]",
      "text/plain": [
       "<matplotlib.figure.Figure at 0x4569358>"
      ]
     },
     "metadata": {},
     "output_type": "display_data"
    }
   ],
   "source": [
    "compare_results(function=kneighbors_regressor, test_results=test_results, parameter_name='n_neighbors',\n",
    "                list_of_values=range(5,40,5), train_data=train_data, train_results=train_results, test_data=test_data)"
   ]
  },
  {
   "cell_type": "code",
   "execution_count": 309,
   "metadata": {
    "collapsed": true
   },
   "outputs": [],
   "source": [
    "predicted = np.load('src/Logs/20161017_predicted_coordinates_kneighbors_regressor_n_neighbors_20.npy')\n",
    "original = np.array(test_results)\n",
    "dist = distance_for_each_point(predicted, original)"
   ]
  },
  {
   "cell_type": "code",
   "execution_count": 310,
   "metadata": {
    "collapsed": false
   },
   "outputs": [],
   "source": [
    "sum_dist = dist.sum(axis=0) \n",
    "indeces = sum_dist.argsort()"
   ]
  },
  {
   "cell_type": "code",
   "execution_count": 311,
   "metadata": {
    "collapsed": false
   },
   "outputs": [
    {
     "data": {
      "text/plain": [
       "array([ 2292.67178617,  2292.67178617])"
      ]
     },
     "execution_count": 311,
     "metadata": {},
     "output_type": "execute_result"
    }
   ],
   "source": [
    "sum_dist[indeces[-2:]]"
   ]
  },
  {
   "cell_type": "code",
   "execution_count": 312,
   "metadata": {
    "collapsed": false
   },
   "outputs": [
    {
     "data": {
      "text/plain": [
       "array([[1706,  949],\n",
       "       [1678,  979],\n",
       "       [1648, 1006],\n",
       "       [1629, 1038],\n",
       "       [1592, 1069]], dtype=int64)"
      ]
     },
     "execution_count": 312,
     "metadata": {},
     "output_type": "execute_result"
    }
   ],
   "source": [
    "original_path = original[:, indeces[-2:]]\n",
    "original_path"
   ]
  },
  {
   "cell_type": "code",
   "execution_count": 313,
   "metadata": {
    "collapsed": false
   },
   "outputs": [
    {
     "data": {
      "text/plain": [
       "array([[ 1658.35,   626.25],\n",
       "       [ 1620.7 ,   587.6 ],\n",
       "       [ 1582.05,   553.3 ],\n",
       "       [ 1542.3 ,   518.55],\n",
       "       [ 1506.  ,   488.6 ]])"
      ]
     },
     "execution_count": 313,
     "metadata": {},
     "output_type": "execute_result"
    }
   ],
   "source": [
    "predicted_path = predicted[:, indeces[-2:]]\n",
    "predicted_path"
   ]
  },
  {
   "cell_type": "code",
   "execution_count": 314,
   "metadata": {
    "collapsed": false
   },
   "outputs": [],
   "source": [
    "pedestrian, first_frame = find_by_path(original_path)"
   ]
  },
  {
   "cell_type": "code",
   "execution_count": 315,
   "metadata": {
    "collapsed": false
   },
   "outputs": [
    {
     "data": {
      "text/plain": [
       "4499"
      ]
     },
     "execution_count": 315,
     "metadata": {},
     "output_type": "execute_result"
    }
   ],
   "source": [
    "pedestrian"
   ]
  },
  {
   "cell_type": "code",
   "execution_count": 316,
   "metadata": {
    "collapsed": false
   },
   "outputs": [
    {
     "data": {
      "text/plain": [
       "51300"
      ]
     },
     "execution_count": 316,
     "metadata": {},
     "output_type": "execute_result"
    }
   ],
   "source": [
    "first_frame"
   ]
  },
  {
   "cell_type": "code",
   "execution_count": 317,
   "metadata": {
    "collapsed": true
   },
   "outputs": [],
   "source": [
    "df = download_pedestrian(pedestrian)"
   ]
  },
  {
   "cell_type": "code",
   "execution_count": 319,
   "metadata": {
    "collapsed": false
   },
   "outputs": [],
   "source": [
    "prev_path = np.array(df.loc[range(first_frame - 5 * 20, first_frame, 20)])"
   ]
  },
  {
   "cell_type": "code",
   "execution_count": 320,
   "metadata": {
    "collapsed": false
   },
   "outputs": [
    {
     "data": {
      "text/plain": [
       "array([[1821,  843],\n",
       "       [1816,  856],\n",
       "       [1786,  875],\n",
       "       [1754,  891],\n",
       "       [1680,  415]], dtype=int64)"
      ]
     },
     "execution_count": 320,
     "metadata": {},
     "output_type": "execute_result"
    }
   ],
   "source": [
    "prev_path"
   ]
  },
  {
   "cell_type": "code",
   "execution_count": 323,
   "metadata": {
    "collapsed": false
   },
   "outputs": [],
   "source": [
    "draw_lines(frame_number=first_frame, paths=[prev_path, original_path, predicted_path], colors=['blue', 'green', 'red'],\n",
    "           image_name='ped4499', draw_line=False)"
   ]
  },
  {
   "cell_type": "code",
   "execution_count": null,
   "metadata": {
    "collapsed": true
   },
   "outputs": [],
   "source": []
  }
 ],
 "metadata": {
  "kernelspec": {
   "display_name": "Python 3",
   "language": "python",
   "name": "python3"
  },
  "language_info": {
   "codemirror_mode": {
    "name": "ipython",
    "version": 3
   },
   "file_extension": ".py",
   "mimetype": "text/x-python",
   "name": "python",
   "nbconvert_exporter": "python",
   "pygments_lexer": "ipython3",
   "version": "3.5.1"
  }
 },
 "nbformat": 4,
 "nbformat_minor": 0
}
