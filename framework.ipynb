{
 "cells": [
  {
   "cell_type": "code",
   "execution_count": 1,
   "metadata": {
    "collapsed": true
   },
   "outputs": [],
   "source": [
    "import numpy as np\n",
    "import pandas as pd\n",
    "import matplotlib.pyplot as plt\n",
    "\n",
    "from PIL import Image, ImageDraw\n",
    "from time import localtime, strftime\n",
    "\n",
    "%matplotlib inline\n",
    "\n",
    "plt.style.use('ggplot')\n",
    "plt.rcParams['figure.figsize'] = (15, 7)\n",
    "\n",
    "# Number of samples in each class\n",
    "\n",
    "TEST_SAMPLE_NUMBER = 51731\n",
    "TRAIN_SAMPLE_NUMBER = 257187"
   ]
  },
  {
   "cell_type": "code",
   "execution_count": 2,
   "metadata": {
    "collapsed": true
   },
   "outputs": [],
   "source": [
    "ZERO_PADDING = 6\n",
    "\n",
    "def get_filename(index):\n",
    "    return \"src/Csv/{}.txt\".format(str(index).zfill(ZERO_PADDING))\n",
    "\n",
    "def get_framename(index):\n",
    "    return \"src/Frame/{}.jpg\".format(str(index).zfill(ZERO_PADDING))\n",
    "\n",
    "NUMBER_OF_PEDESTRIANS = 12273\n",
    "\n",
    "def download_pedestrian(index):\n",
    "    assert(0 <= index < NUMBER_OF_PEDESTRIANS), \"pedestrian number should be between 0 and {max}; given number: {id}\".format(\n",
    "        max=NUMBER_OF_PEDESTRIANS-1, id=index)\n",
    "    filename = get_filename(index)\n",
    "    data = pd.read_csv(filename, index_col=0)\n",
    "    return data"
   ]
  },
  {
   "cell_type": "code",
   "execution_count": 3,
   "metadata": {
    "collapsed": false
   },
   "outputs": [],
   "source": [
    "def make_view(data, length, only_odd_rows=True):\n",
    "    data = np.array(data).flatten()\n",
    "    len1 = len(data)\n",
    "    len2 = length\n",
    "    return np.lib.stride_tricks.as_strided(data, shape=(len1 - len2 + 1, len2),\n",
    "                                                    strides=(data.dtype.itemsize,) * 2)[::2 if only_odd_rows else 1, :]"
   ]
  },
  {
   "cell_type": "code",
   "execution_count": 4,
   "metadata": {
    "collapsed": true
   },
   "outputs": [],
   "source": [
    "# array1: [sX1; sY1; sX2; sY2; ...]\n",
    "# array2: [eX1; eY1; eX2; eY2; ...]\n",
    "# output: [dist((sX1, sY1), (eX1, eY1)), dist((sX1, sY1), (eX1, eY1)),\n",
    "#          dist((sX2, sY2), (eX2, eY2)), dist((sX2, sY2), (eX2, eY2)), ...]\n",
    "\n",
    "def distance_for_each_point(array1, array2):\n",
    "    array_length = len(array1)\n",
    "    len2 = len(array2)\n",
    "    assert (array_length == len2), \"Arrays' sizes have to be equal (array1: {}, array2: {})\".format(array_length, len2)\n",
    "    \n",
    "    if array1.ndim == 1:\n",
    "        distance = np.linalg.norm((array1 - array2).reshape((int(array_length / 2), 2)), axis=1)\n",
    "        result = np.array([[d, d] for d in distance]).flatten()\n",
    "    else:\n",
    "        result = np.array([distance_for_each_point(array1[i], array2[i]) for i in range(array_length)])\n",
    "    \n",
    "    return result\n",
    "\n",
    "# metrics between real results (in tests) and predicted\n",
    "def distance(test_results, predicted_results):\n",
    "    return distance_for_each_point(np.array(test_results), predicted_results).sum() / TEST_SAMPLE_NUMBER / 2\n",
    "\n",
    "# score between real results (in tests) and predicted\n",
    "def score(test_results, predicted_results, baseline_results):\n",
    "    test_results = np.array(test_results)\n",
    "    predicted_results = np.array(predicted_results)\n",
    "    baseline_results = np.array(baseline_results)\n",
    "    return (1 - ((test_results - predicted_results) ** 2).sum()/((test_results - baseline_results) ** 2).sum())"
   ]
  },
  {
   "cell_type": "code",
   "execution_count": 63,
   "metadata": {
    "collapsed": true
   },
   "outputs": [],
   "source": [
    "# data may be present as [n_features * n_samples] or [n_samples * n_features] \n",
    "# usually algorithms require second variant but I prefer first\n",
    "\n",
    "def to_model(df):\n",
    "    df = np.array(df).T\n",
    "    return df.reshape((int(df.shape[0] / 2), int(df.shape[1] * 2)))\n",
    "\n",
    "def to_model_with_features(df):\n",
    "    df = np.array(df)\n",
    "    movement_vector = np.diff(df,axis=0)\n",
    "    tmp = np.power(movement_vector, 2)\n",
    "    tmp[:,::2] = -tmp[:,::2]\n",
    "    tmp = np.sqrt(np.diff(tmp)[:,::2])\n",
    "    last_speed = tmp[-1:]\n",
    "    tmp = np.mean(tmp, axis=0)\n",
    "    return (np.concatenate((to_model(df), to_model(movement_vector), np.array(last_speed).T, np.array([tmp]).T),\n",
    "                           axis=1)).astype(int)\n",
    "def from_model(npa):\n",
    "    return npa.reshape((int(npa.shape[0] * 2), int(npa.shape[1] / 2))).T"
   ]
  },
  {
   "cell_type": "code",
   "execution_count": 6,
   "metadata": {
    "collapsed": false
   },
   "outputs": [],
   "source": [
    "# first simply algorithm to get some start\n",
    "# more about it you can find in 'baseline_distance_between_real_points_and_predicted.ipynb'\n",
    "def baseline(test_data, start_point_index=0, number_of_points_to_return=5):\n",
    "    error_template = \"Start point index should be less than last point. Start point index: {st}, last point index: {end}\"\n",
    "    assert (start_point_index < len(test_data) - 1), error_template.format(st=start_point_index, end=len(test_data) - 1)\n",
    "    \n",
    "    start_point = np.array(test_data)[start_point_index]\n",
    "    last_but_one_point = np.array(test_data)[-2]\n",
    "    end_point = np.array(test_data)[-1]\n",
    "    \n",
    "    distance = distance_for_each_point(end_point, start_point)\n",
    "    normalized_motion_vector = (end_point - start_point) / distance\n",
    "    normalized_motion_vector[np.where(distance == 0)] = 0\n",
    "    last_vector_length = distance_for_each_point(end_point, last_but_one_point)\n",
    "    \n",
    "    motion_vector = normalized_motion_vector * last_vector_length\n",
    "    result = []\n",
    "    for i in range(number_of_points_to_return):\n",
    "        result.append(end_point + (i + 1) * motion_vector)\n",
    "        \n",
    "    return np.array(result)"
   ]
  },
  {
   "cell_type": "markdown",
   "metadata": {},
   "source": [
    "You need to pass as arguments function to execute, test_results to compare with predicted by function, parameter_name to know results by which parameter you want to compare and list_of_values for this parameter.\n",
    "\n",
    "Also you need to pass other argument which function will use it's always some test_data and usually train_data and train_results."
   ]
  },
  {
   "cell_type": "code",
   "execution_count": 7,
   "metadata": {
    "collapsed": true
   },
   "outputs": [],
   "source": [
    "def compare_results(function, test_results, parameter_name, list_of_values, **other_parameters):\n",
    "    result = [] # we will keep results for each configuration here\n",
    "\n",
    "    for i, value in enumerate(list_of_values):\n",
    "        print(\"{cur}/{num}: {t}\".format(cur=i+1, num=len(list_of_values), t=strftime(\"%Y-%m-%d %H:%M:%S\", localtime())))\n",
    "        other_parameters[parameter_name] = value        \n",
    "        predicted_results = function(**other_parameters)\n",
    "        np.save(\"src/Logs/{date}_predicted_coordinates_{function_name}_{parameter_name}_\".format(\n",
    "                date=strftime(\"%Y%m%d\", localtime()), function_name=function.__name__, parameter_name=parameter_name)\n",
    "                + str(value), predicted_results)\n",
    "        result.append(score(test_results, predicted_results, baseline(other_parameters['test_data'], start_point_index=2)))\n",
    "        \n",
    "    print(\"done! {time}\".format(time=strftime(\"%Y-%m-%d %H:%M:%S\", localtime())))\n",
    "    print(\"Results: {}\".format(result))\n",
    "        \n",
    "    ind = list_of_values\n",
    "    number = len(ind)\n",
    "    width = 2 / number\n",
    "    result_bar = plt.bar(range(number), result, width, color='g')\n",
    "\n",
    "    plt.ylabel('Average difference')\n",
    "    plt.xlabel(parameter_name)\n",
    "    plt.title(\"Difference between real points and predicted by {parameter_name} in {function_name}\".format(\n",
    "        function_name=function.__name__, parameter_name=parameter_name))\n",
    "    plt.xticks(np.array(range(number)) + width/2, ind)\n",
    "    plt.savefig(\"src/Plots/{date}_{function_name}_score_by_{parameter_name}_with_features.png\".format(\n",
    "        date=strftime(\"%Y%m%d\", localtime()), function_name=function.__name__, parameter_name=parameter_name))    "
   ]
  },
  {
   "cell_type": "code",
   "execution_count": 8,
   "metadata": {
    "collapsed": true
   },
   "outputs": [],
   "source": [
    "def draw_lines(frame_number, paths, colors, image_name, draw_line=True):\n",
    "    im = Image.open(get_framename(frame_number))\n",
    "    draw = ImageDraw.Draw(im)\n",
    "    for path, color in zip(paths, colors):\n",
    "        if draw_line:\n",
    "            path_view = make_view(path, 4)\n",
    "            for line in path_view:\n",
    "                draw.line(tuple(line), width=4, fill=color)\n",
    "        else:\n",
    "            for point in path:\n",
    "                draw.ellipse(tuple(np.append(point, point+10)), fill=color)\n",
    "\n",
    "    im.save(\"src/Images/{name}.jpg\".format(name=image_name))"
   ]
  },
  {
   "cell_type": "code",
   "execution_count": 9,
   "metadata": {
    "collapsed": true
   },
   "outputs": [],
   "source": [
    "def find_by_path(path, search_in_test=True):\n",
    "    \n",
    "    indices = np.arange(NUMBER_OF_PEDESTRIANS)\n",
    "    if search_in_test:\n",
    "        pedestrian_separation = pd.read_csv('src/pedestrian_labels_and_test_and_train_separation.csv', index_col=0)\n",
    "        indices = np.where(np.array(pedestrian_separation['category']) == 'test')[0]\n",
    "        \n",
    "    path = path.flatten()    \n",
    "    len2 = len(path)\n",
    "        \n",
    "    for i in indices:\n",
    "        df = download_pedestrian(i)\n",
    "        data = np.array(df).flatten()\n",
    "        len1 = len(data)\n",
    "        data_view = np.lib.stride_tricks.as_strided(data, shape=(len1 - len2 + 1, len2),\n",
    "                                                    strides=(data.dtype.itemsize,) * 2)[::2, :]\n",
    "        \n",
    "        ind = np.where(np.all(data_view == path, axis=1))[0]\n",
    "        if len(ind) > 0:\n",
    "            return (i, df.index.values[ind[0]])\n",
    "        \n",
    "    return (-1, -1)"
   ]
  },
  {
   "cell_type": "code",
   "execution_count": 10,
   "metadata": {
    "collapsed": true
   },
   "outputs": [],
   "source": [
    "# reading data from .csv files\n",
    "\n",
    "test_data = pd.read_csv('src/test_data_points.csv', index_col=0)\n",
    "train_data = pd.read_csv('src/train_data_points.csv', index_col=0)\n",
    "\n",
    "# split ten frames in input and output data (we want to predict output by input)\n",
    "\n",
    "test_results = test_data[5:10]\n",
    "test_data = test_data[:5]\n",
    "\n",
    "train_results = train_data[5:10]\n",
    "train_data = train_data[:5]"
   ]
  },
  {
   "cell_type": "code",
   "execution_count": 23,
   "metadata": {
    "collapsed": true
   },
   "outputs": [],
   "source": [
    "from sklearn.ensemble import RandomForestRegressor\n",
    "\n",
    "def random_forest_regressor(n_estimators, train_data, train_results, test_data):\n",
    "    est = RandomForestRegressor(n_estimators=n_estimators)\n",
    "    est.fit(to_model_with_features(train_data), to_model(train_results))\n",
    "    return from_model(est.predict(to_model_with_features(test_data)))"
   ]
  },
  {
   "cell_type": "code",
   "execution_count": 74,
   "metadata": {
    "collapsed": false
   },
   "outputs": [
    {
     "name": "stdout",
     "output_type": "stream",
     "text": [
      "1/4: 2016-11-05 11:01:56\n",
      "2/4: 2016-11-05 11:02:43\n",
      "3/4: 2016-11-05 11:04:19\n",
      "4/4: 2016-11-05 11:06:41\n",
      "done! 2016-11-05 11:09:51\n",
      "Results: [0.2305664332248315, 0.27386678570033962, 0.2941979446389783, 0.29958492698562367]\n"
     ]
    },
    {
     "data": {
      "image/png": "[encoded data removed]",
      "text/plain": [
       "<matplotlib.figure.Figure at 0x7f44d2856e80>"
      ]
     },
     "metadata": {},
     "output_type": "display_data"
    }
   ],
   "source": [
    "compare_results(function=random_forest_regressor, test_results=test_results, parameter_name=\"n_estimators\",\n",
    "                list_of_values=range(10, 50, 10), train_data=train_data, train_results=train_results,\n",
    "                test_data=test_data)"
   ]
  },
  {
   "cell_type": "code",
   "execution_count": 15,
   "metadata": {
    "collapsed": false
   },
   "outputs": [],
   "source": [
    "def get_most_unpredictable_pedestrians(file, pedestrian_number):\n",
    "    predicted = np.load(file)\n",
    "    original = np.array(test_results)\n",
    "    dist = distance_for_each_point(predicted, original)\n",
    "    \n",
    "    sum_dist = dist.sum(axis=0) \n",
    "    shuffled_indices = sum_dist.argsort()\n",
    "    indices = shuffled_indices.copy()\n",
    "    indices[::2] = np.minimum(shuffled_indices[::2], shuffled_indices[1::2])\n",
    "    indices[1::2] = np.maximum(shuffled_indices[::2], shuffled_indices[1::2])\n",
    "    \n",
    "    for i in range(pedestrian_number):\n",
    "        if i == 0:\n",
    "            orig_path = original[:, indices[-2:]]\n",
    "            pred_path = predicted[:, indices[-2:]]\n",
    "        else:\n",
    "            orig_path = original[:, indices[-2*(i+1):-2*i]]\n",
    "            pred_path = predicted[:, indices[-2*(i+1):-2*i]]\n",
    "        \n",
    "        pedestrian, first_frame = find_by_path(orig_path)\n",
    "        \n",
    "        df = download_pedestrian(pedestrian)\n",
    "        prev_path = np.array(df.loc[range(first_frame - 5 * 20, first_frame, 20)])\n",
    "        draw_lines(frame_number=first_frame, paths=[prev_path, orig_path, pred_path], colors=['blue', 'green', 'red'],\n",
    "           image_name=\"{ind}_ped{num}_frame{frame}\".format(ind=i+1, num=pedestrian, frame=first_frame), draw_line=False)    "
   ]
  },
  {
   "cell_type": "code",
   "execution_count": 89,
   "metadata": {
    "collapsed": false
   },
   "outputs": [],
   "source": [
    "file = 'src/Logs/20161103_predicted_coordinates_random_forest_regressor_per_point_all_points_n_estimators_40.npy'\n",
    "get_most_unpredictable_pedestrians(file=file, pedestrian_number=20)"
   ]
  },
  {
   "cell_type": "code",
   "execution_count": null,
   "metadata": {
    "collapsed": true
   },
   "outputs": [],
   "source": []
  }
 ],
 "metadata": {
  "anaconda-cloud": {},
  "kernelspec": {
   "display_name": "Python [default]",
   "language": "python",
   "name": "python3"
  },
  "language_info": {
   "codemirror_mode": {
    "name": "ipython",
    "version": 3
   },
   "file_extension": ".py",
   "mimetype": "text/x-python",
   "name": "python",
   "nbconvert_exporter": "python",
   "pygments_lexer": "ipython3",
   "version": "3.5.2"
  }
 },
 "nbformat": 4,
 "nbformat_minor": 0
}
