{
 "cells": [
  {
   "cell_type": "code",
   "execution_count": 1,
   "metadata": {
    "collapsed": false
   },
   "outputs": [],
   "source": [
    "from utils import *\n",
    "%matplotlib inline"
   ]
  },
  {
   "cell_type": "code",
   "execution_count": 8,
   "metadata": {
    "collapsed": true
   },
   "outputs": [],
   "source": [
    "plt.style.use('ggplot')\n",
    "plt.rcParams['figure.figsize'] = (15, 7)"
   ]
  },
  {
   "cell_type": "code",
   "execution_count": 2,
   "metadata": {
    "collapsed": false
   },
   "outputs": [],
   "source": [
    "train_data, train_results, test_data, test_results = read_data()"
   ]
  },
  {
   "cell_type": "code",
   "execution_count": 6,
   "metadata": {
    "collapsed": true
   },
   "outputs": [],
   "source": [
    "from sklearn.ensemble import RandomForestRegressor\n",
    "\n",
    "def random_forest_regressor(train_data, train_results, test_data, prediction_mode='delta', **est_parameters):\n",
    "    est = RandomForestRegressor(n_jobs=-1, **est_parameters)\n",
    "    \n",
    "    if prediction_mode == 'delta':\n",
    "        make_results = make_delta\n",
    "        unmake_results = unmake_delta\n",
    "    else:\n",
    "        make_results = lambda train_data, train_results: train_results\n",
    "        unmake_results = lambda test_data, prediction: prediction\n",
    "    \n",
    "    est.fit(to_model_with_features(train_data), to_model(make_results(train_data, train_results))) \n",
    "    prediction = unmake_results(test_data, from_model(est.predict(to_model_with_features(test_data))))\n",
    "        \n",
    "    return prediction"
   ]
  },
  {
   "cell_type": "code",
   "execution_count": 7,
   "metadata": {
    "collapsed": false
   },
   "outputs": [
    {
     "name": "stdout",
     "output_type": "stream",
     "text": [
      "1/4: 2016-12-08 14:24:38\n",
      "2/4: 2016-12-08 14:24:50\n",
      "3/4: 2016-12-08 14:25:29\n",
      "4/4: 2016-12-08 14:27:03\n",
      "done! 2016-12-08 14:30:06\n",
      "Results: [0.20319056999777407, 0.34745800455926745, 0.38854078697386052, 0.39901018514211017]\n"
     ]
    },
    {
     "data": {
      "image/png": "[encoded data removed]",
      "text/plain": [
       "<matplotlib.figure.Figure at 0x7f95c0d33a20>"
      ]
     },
     "metadata": {},
     "output_type": "display_data"
    }
   ],
   "source": [
    "compare_results(function=random_forest_regressor, test_results=test_results, parameter_name=\"n_estimators\",\n",
    "                list_of_values=[3, 10, 25, 50], train_data=train_data, train_results=train_results,\n",
    "                test_data=test_data, prediction_mode='delta')"
   ]
  },
  {
   "cell_type": "code",
   "execution_count": 97,
   "metadata": {
    "collapsed": false
   },
   "outputs": [],
   "source": [
    "def get_pedestrians(file, pedestrian_number, maximize_score):\n",
    "    original = np.array(test_results)\n",
    "    predicted = np.load(file)\n",
    "    base = baseline(test_data, start_point_index=2)\n",
    "    \n",
    "    delta1 = ((original - predicted) ** 2).sum(axis=0)\n",
    "    delta1[::2] += delta1[1::2]\n",
    "    delta1[1::2] = delta1[::2]\n",
    "    delta2 = ((original - base) ** 2).sum(axis=0)\n",
    "    delta2[::2] += delta2[1::2]\n",
    "    delta2[1::2] = delta2[::2]\n",
    "    dist = (1 - delta1/delta2)\n",
    "    dist[delta1==0] = 1\n",
    "    dist[delta2==0] = -1\n",
    "    \n",
    "    if not maximize_score:\n",
    "        dist = -dist\n",
    "        \n",
    "    shuffled_indices = dist.argsort()\n",
    "    indices = shuffled_indices.copy()\n",
    "    indices[::2] = np.minimum(shuffled_indices[::2], shuffled_indices[1::2])\n",
    "    indices[1::2] = np.maximum(shuffled_indices[::2], shuffled_indices[1::2])\n",
    "    \n",
    "    for i in range(pedestrian_number):\n",
    "        if i == 0:\n",
    "            orig_path = original[:, indices[-2:]]\n",
    "            base_path = base[:, indices[-2:]]\n",
    "            pred_path = predicted[:, indices[-2:]]\n",
    "        else:\n",
    "            orig_path = original[:, indices[-2*(i+1):-2*i]]\n",
    "            base_path = base[:, indices[-2*(i+1):-2*i]]\n",
    "            pred_path = predicted[:, indices[-2*(i+1):-2*i]]\n",
    "        \n",
    "        #print(orig_path)\n",
    "        \n",
    "        pedestrian, first_frame = find_by_path(orig_path)\n",
    "        \n",
    "        df = download_pedestrian(pedestrian)\n",
    "        prev_path = np.array(df.loc[range(first_frame - 5 * 20, first_frame, 20)])\n",
    "        \n",
    "        image_name = \"{ind}_ped{num}_frame{frame}\".format(ind=i+1,num=pedestrian, frame=first_frame)\n",
    "        if maximize_score:\n",
    "            image_name += \"_good\"\n",
    "        else:\n",
    "            image_name += \"_bad\"\n",
    "        \n",
    "        draw_lines(frame_number=first_frame, paths=[prev_path, orig_path, base_path, pred_path],\n",
    "                   colors=['blue', 'green', 'yellow', 'red'], image_name=image_name, draw_line=False)"
   ]
  },
  {
   "cell_type": "code",
   "execution_count": 98,
   "metadata": {
    "collapsed": false
   },
   "outputs": [],
   "source": [
    "get_pedestrians(file, pedestrian_number=5, maximize_score=True)"
   ]
  },
  {
   "cell_type": "code",
   "execution_count": 99,
   "metadata": {
    "collapsed": true
   },
   "outputs": [],
   "source": [
    "get_pedestrians(file, pedestrian_number=5, maximize_score=False)"
   ]
  },
  {
   "cell_type": "code",
   "execution_count": null,
   "metadata": {
    "collapsed": true
   },
   "outputs": [],
   "source": []
  }
 ],
 "metadata": {
  "anaconda-cloud": {},
  "kernelspec": {
   "display_name": "Python [default]",
   "language": "python",
   "name": "python3"
  },
  "language_info": {
   "codemirror_mode": {
    "name": "ipython",
    "version": 3
   },
   "file_extension": ".py",
   "mimetype": "text/x-python",
   "name": "python",
   "nbconvert_exporter": "python",
   "pygments_lexer": "ipython3",
   "version": "3.5.2"
  }
 },
 "nbformat": 4,
 "nbformat_minor": 0
}
