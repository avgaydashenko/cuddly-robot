{
 "cells": [
  {
   "cell_type": "code",
   "execution_count": 1,
   "metadata": {
    "collapsed": false
   },
   "outputs": [],
   "source": [
    "from utils import *\n",
    "%matplotlib inline"
   ]
  },
  {
   "cell_type": "code",
   "execution_count": 2,
   "metadata": {
    "collapsed": true
   },
   "outputs": [],
   "source": [
    "plt.style.use('ggplot')\n",
    "plt.rcParams['figure.figsize'] = (15, 7)"
   ]
  },
  {
   "cell_type": "code",
   "execution_count": 3,
   "metadata": {
    "collapsed": false
   },
   "outputs": [],
   "source": [
    "train_data, train_results, test_data, test_results = read_data()"
   ]
  },
  {
   "cell_type": "code",
   "execution_count": 27,
   "metadata": {
    "collapsed": true
   },
   "outputs": [],
   "source": [
    "from sklearn.ensemble import GradientBoostingRegressor\n",
    "\n",
    "def gradient_boosting_regressor(train_data, train_results, test_data, prediction_mode='delta', **est_parameters):\n",
    "      \n",
    "    if prediction_mode == 'delta':\n",
    "        make_results = make_delta\n",
    "        unmake_results = unmake_delta\n",
    "    else:\n",
    "        make_results = lambda train_data, train_results: train_results\n",
    "        unmake_results = lambda test_data, prediction: prediction\n",
    "    \n",
    "    train_data_ = to_model_with_features(train_data)\n",
    "    train_results_ = to_model(make_results(train_data, train_results))\n",
    "    \n",
    "    test_data_ = to_model_with_features(test_data)\n",
    "    test_results_ = np.zeros_like(test_data)\n",
    "    \n",
    "    for i in range(train_results_.shape[1]):\n",
    "        est = GradientBoostingRegressor(random_state=0, **est_parameters)    \n",
    "        est.fit(train_data_, train_results_[:,i]) \n",
    "        test_results_[i//2,i%2::2] = est.predict(test_data_)\n",
    "        \n",
    "    return unmake_results(test_data, test_results_)"
   ]
  },
  {
   "cell_type": "code",
   "execution_count": 30,
   "metadata": {
    "collapsed": false
   },
   "outputs": [
    {
     "data": {
      "text/plain": [
       "array([[ 582,  155,  581, ...,  528, 1583,  548],\n",
       "       [ 583,  156,  582, ...,  559, 1618,  583],\n",
       "       [ 585,  165,  584, ...,  579, 1653,  600],\n",
       "       [ 593,  172,  594, ...,  598, 1670,  617],\n",
       "       [ 601,  180,  603, ...,  615, 1686,  632]])"
      ]
     },
     "execution_count": 30,
     "metadata": {},
     "output_type": "execute_result"
    }
   ],
   "source": [
    "np.load('src/Logs/20161212_predicted_coordinates_gradient_boosting_regressor_learning_rate_0.1.npy')"
   ]
  },
  {
   "cell_type": "code",
   "execution_count": 31,
   "metadata": {
    "collapsed": false
   },
   "outputs": [
    {
     "data": {
      "text/html": [
       "<div>\n",
       "<table border=\"1\" class=\"dataframe\">\n",
       "  <thead>\n",
       "    <tr style=\"text-align: right;\">\n",
       "      <th></th>\n",
       "      <th>X</th>\n",
       "      <th>Y</th>\n",
       "      <th>X.1</th>\n",
       "      <th>Y.1</th>\n",
       "      <th>X.2</th>\n",
       "      <th>Y.2</th>\n",
       "      <th>X.3</th>\n",
       "      <th>Y.3</th>\n",
       "      <th>X.4</th>\n",
       "      <th>Y.4</th>\n",
       "      <th>...</th>\n",
       "      <th>X.51726</th>\n",
       "      <th>Y.51726</th>\n",
       "      <th>X.51727</th>\n",
       "      <th>Y.51727</th>\n",
       "      <th>X.51728</th>\n",
       "      <th>Y.51728</th>\n",
       "      <th>X.51729</th>\n",
       "      <th>Y.51729</th>\n",
       "      <th>X.51730</th>\n",
       "      <th>Y.51730</th>\n",
       "    </tr>\n",
       "  </thead>\n",
       "  <tbody>\n",
       "    <tr>\n",
       "      <th>5</th>\n",
       "      <td>581</td>\n",
       "      <td>169</td>\n",
       "      <td>574</td>\n",
       "      <td>178</td>\n",
       "      <td>572</td>\n",
       "      <td>186</td>\n",
       "      <td>567</td>\n",
       "      <td>198</td>\n",
       "      <td>566</td>\n",
       "      <td>210</td>\n",
       "      <td>...</td>\n",
       "      <td>1461</td>\n",
       "      <td>463</td>\n",
       "      <td>1490</td>\n",
       "      <td>483</td>\n",
       "      <td>1517</td>\n",
       "      <td>499</td>\n",
       "      <td>1551</td>\n",
       "      <td>515</td>\n",
       "      <td>1592</td>\n",
       "      <td>533</td>\n",
       "    </tr>\n",
       "    <tr>\n",
       "      <th>6</th>\n",
       "      <td>574</td>\n",
       "      <td>178</td>\n",
       "      <td>572</td>\n",
       "      <td>186</td>\n",
       "      <td>567</td>\n",
       "      <td>198</td>\n",
       "      <td>566</td>\n",
       "      <td>210</td>\n",
       "      <td>563</td>\n",
       "      <td>219</td>\n",
       "      <td>...</td>\n",
       "      <td>1490</td>\n",
       "      <td>483</td>\n",
       "      <td>1517</td>\n",
       "      <td>499</td>\n",
       "      <td>1551</td>\n",
       "      <td>515</td>\n",
       "      <td>1592</td>\n",
       "      <td>533</td>\n",
       "      <td>1637</td>\n",
       "      <td>541</td>\n",
       "    </tr>\n",
       "    <tr>\n",
       "      <th>7</th>\n",
       "      <td>572</td>\n",
       "      <td>186</td>\n",
       "      <td>567</td>\n",
       "      <td>198</td>\n",
       "      <td>566</td>\n",
       "      <td>210</td>\n",
       "      <td>563</td>\n",
       "      <td>219</td>\n",
       "      <td>564</td>\n",
       "      <td>235</td>\n",
       "      <td>...</td>\n",
       "      <td>1517</td>\n",
       "      <td>499</td>\n",
       "      <td>1551</td>\n",
       "      <td>515</td>\n",
       "      <td>1592</td>\n",
       "      <td>533</td>\n",
       "      <td>1637</td>\n",
       "      <td>541</td>\n",
       "      <td>1688</td>\n",
       "      <td>549</td>\n",
       "    </tr>\n",
       "    <tr>\n",
       "      <th>8</th>\n",
       "      <td>567</td>\n",
       "      <td>198</td>\n",
       "      <td>566</td>\n",
       "      <td>210</td>\n",
       "      <td>563</td>\n",
       "      <td>219</td>\n",
       "      <td>564</td>\n",
       "      <td>235</td>\n",
       "      <td>560</td>\n",
       "      <td>240</td>\n",
       "      <td>...</td>\n",
       "      <td>1551</td>\n",
       "      <td>515</td>\n",
       "      <td>1592</td>\n",
       "      <td>533</td>\n",
       "      <td>1637</td>\n",
       "      <td>541</td>\n",
       "      <td>1688</td>\n",
       "      <td>549</td>\n",
       "      <td>1726</td>\n",
       "      <td>553</td>\n",
       "    </tr>\n",
       "    <tr>\n",
       "      <th>9</th>\n",
       "      <td>566</td>\n",
       "      <td>210</td>\n",
       "      <td>563</td>\n",
       "      <td>219</td>\n",
       "      <td>564</td>\n",
       "      <td>235</td>\n",
       "      <td>560</td>\n",
       "      <td>240</td>\n",
       "      <td>560</td>\n",
       "      <td>255</td>\n",
       "      <td>...</td>\n",
       "      <td>1592</td>\n",
       "      <td>533</td>\n",
       "      <td>1637</td>\n",
       "      <td>541</td>\n",
       "      <td>1688</td>\n",
       "      <td>549</td>\n",
       "      <td>1726</td>\n",
       "      <td>553</td>\n",
       "      <td>1765</td>\n",
       "      <td>558</td>\n",
       "    </tr>\n",
       "  </tbody>\n",
       "</table>\n",
       "<p>5 rows × 103462 columns</p>\n",
       "</div>"
      ],
      "text/plain": [
       "     X    Y  X.1  Y.1  X.2  Y.2  X.3  Y.3  X.4  Y.4   ...     X.51726  \\\n",
       "5  581  169  574  178  572  186  567  198  566  210   ...        1461   \n",
       "6  574  178  572  186  567  198  566  210  563  219   ...        1490   \n",
       "7  572  186  567  198  566  210  563  219  564  235   ...        1517   \n",
       "8  567  198  566  210  563  219  564  235  560  240   ...        1551   \n",
       "9  566  210  563  219  564  235  560  240  560  255   ...        1592   \n",
       "\n",
       "   Y.51726  X.51727  Y.51727  X.51728  Y.51728  X.51729  Y.51729  X.51730  \\\n",
       "5      463     1490      483     1517      499     1551      515     1592   \n",
       "6      483     1517      499     1551      515     1592      533     1637   \n",
       "7      499     1551      515     1592      533     1637      541     1688   \n",
       "8      515     1592      533     1637      541     1688      549     1726   \n",
       "9      533     1637      541     1688      549     1726      553     1765   \n",
       "\n",
       "   Y.51730  \n",
       "5      533  \n",
       "6      541  \n",
       "7      549  \n",
       "8      553  \n",
       "9      558  \n",
       "\n",
       "[5 rows x 103462 columns]"
      ]
     },
     "execution_count": 31,
     "metadata": {},
     "output_type": "execute_result"
    }
   ],
   "source": [
    "test_results"
   ]
  },
  {
   "cell_type": "code",
   "execution_count": 28,
   "metadata": {
    "collapsed": false
   },
   "outputs": [
    {
     "name": "stdout",
     "output_type": "stream",
     "text": [
      "1/5: 2016-12-12 09:44:32\n",
      "2/5: 2016-12-12 09:57:03\n",
      "3/5: 2016-12-12 10:08:43\n",
      "4/5: 2016-12-12 10:21:20\n",
      "5/5: 2016-12-12 10:34:37\n",
      "done! 2016-12-12 10:47:56\n",
      "Results: [-4.3535258455752253, -3.5434919746643843, -3.5479416376760495, -3.5431099910988264, -3.5350884325522971]\n"
     ]
    },
    {
     "data": {
      "image/png": "[encoded data removed]",
      "text/plain": [
       "<matplotlib.figure.Figure at 0x7f135f2e0c50>"
      ]
     },
     "metadata": {},
     "output_type": "display_data"
    }
   ],
   "source": [
    "compare_results(function=gradient_boosting_regressor, test_results=test_results, parameter_name=\"learning_rate\",\n",
    "                list_of_values=[0.01, 0.05, 0.1, 0.2, 0.5], train_data=train_data, train_results=train_results,\n",
    "                test_data=test_data, prediction_mode='delta')"
   ]
  },
  {
   "cell_type": "code",
   "execution_count": null,
   "metadata": {
    "collapsed": true
   },
   "outputs": [],
   "source": [
    "compare_results(function=gradient_boosting_regressor, test_results=test_results, parameter_name=\"n_estimators\",\n",
    "                list_of_values=[20, 50, 100, 200], train_data=train_data, train_results=train_results,\n",
    "                test_data=test_data, prediction_mode='delta', learning_rate=)"
   ]
  },
  {
   "cell_type": "code",
   "execution_count": null,
   "metadata": {
    "collapsed": true
   },
   "outputs": [],
   "source": [
    "compare_results(function=gradient_boosting_regressor, test_results=test_results, parameter_name=\"max_depth\",\n",
    "                list_of_values=[1, 3, 5, 10], train_data=train_data, train_results=train_results,\n",
    "                test_data=test_data, prediction_mode='delta', learning_rate=, n_estimators=,)"
   ]
  },
  {
   "cell_type": "code",
   "execution_count": null,
   "metadata": {
    "collapsed": true
   },
   "outputs": [],
   "source": [
    "compare_results(function=gradient_boosting_regressor, test_results=test_results, parameter_name=\"\",\n",
    "                list_of_values=[1, 3, 5, 10], train_data=train_data, train_results=train_results,\n",
    "                test_data=test_data, prediction_mode='delta', learning_rate=, n_estimators=, max_depth=)"
   ]
  },
  {
   "cell_type": "code",
   "execution_count": 6,
   "metadata": {
    "collapsed": false
   },
   "outputs": [
    {
     "data": {
      "text/plain": [
       "RandomForestRegressor(bootstrap=True, criterion='mse', max_depth=None,\n",
       "           max_features=0.4, max_leaf_nodes=None, min_samples_leaf=1,\n",
       "           min_samples_split=2, min_weight_fraction_leaf=0.0,\n",
       "           n_estimators=50, n_jobs=-1, oob_score=False, random_state=0,\n",
       "           verbose=0, warm_start=False)"
      ]
     },
     "execution_count": 6,
     "metadata": {},
     "output_type": "execute_result"
    }
   ],
   "source": [
    "est = RandomForestRegressor(n_jobs=-1, random_state=0, n_estimators=50, max_features=0.4)\n",
    "    \n",
    "make_results = make_delta\n",
    "unmake_results = unmake_delta\n",
    "\n",
    "est.fit(to_model_with_features(train_data), to_model(make_results(train_data, train_results))) "
   ]
  },
  {
   "cell_type": "code",
   "execution_count": 7,
   "metadata": {
    "collapsed": true
   },
   "outputs": [],
   "source": [
    "importances = est.feature_importances_"
   ]
  },
  {
   "cell_type": "code",
   "execution_count": 8,
   "metadata": {
    "collapsed": true
   },
   "outputs": [],
   "source": [
    "indices = np.argsort(importances)[::-1]"
   ]
  },
  {
   "cell_type": "code",
   "execution_count": 9,
   "metadata": {
    "collapsed": true
   },
   "outputs": [],
   "source": [
    "num_features = to_model_with_features(train_data).shape[1]"
   ]
  },
  {
   "cell_type": "code",
   "execution_count": 10,
   "metadata": {
    "collapsed": false
   },
   "outputs": [
    {
     "name": "stdout",
     "output_type": "stream",
     "text": [
      "Feature ranking:\n",
      "1. feature 13 (0.238339)\n",
      "2. feature 30 (0.162772)\n",
      "3. feature 17 (0.108926)\n",
      "4. feature 12 (0.094460)\n",
      "5. feature 16 (0.062014)\n",
      "6. feature 29 (0.054296)\n",
      "7. feature 26 (0.033142)\n",
      "8. feature 11 (0.029584)\n",
      "9. feature 15 (0.024379)\n",
      "10. feature 14 (0.023785)\n",
      "11. feature 27 (0.023714)\n",
      "12. feature 28 (0.021804)\n",
      "13. feature 25 (0.015878)\n",
      "14. feature 21 (0.014105)\n",
      "15. feature 10 (0.009777)\n",
      "16. feature 9 (0.007015)\n",
      "17. feature 4 (0.006660)\n",
      "18. feature 20 (0.006543)\n",
      "19. feature 5 (0.006167)\n",
      "20. feature 3 (0.005976)\n",
      "21. feature 0 (0.005859)\n",
      "22. feature 8 (0.005791)\n",
      "23. feature 2 (0.005646)\n",
      "24. feature 6 (0.005634)\n",
      "25. feature 1 (0.005444)\n",
      "26. feature 7 (0.005250)\n",
      "27. feature 19 (0.004065)\n",
      "28. feature 18 (0.003591)\n",
      "29. feature 22 (0.003147)\n",
      "30. feature 24 (0.003129)\n",
      "31. feature 23 (0.003108)\n"
     ]
    }
   ],
   "source": [
    "print(\"Feature ranking:\")\n",
    "\n",
    "for f in range(num_features):\n",
    "    print(\"%d. feature %d (%f)\" % (f + 1, indices[f], importances[indices[f]]))"
   ]
  },
  {
   "cell_type": "code",
   "execution_count": 11,
   "metadata": {
    "collapsed": false
   },
   "outputs": [
    {
     "data": {
      "image/png": "[encoded data removed]",
      "text/plain": [
       "<matplotlib.figure.Figure at 0x7f135f028940>"
      ]
     },
     "metadata": {},
     "output_type": "display_data"
    }
   ],
   "source": [
    "plt.figure()\n",
    "plt.title(\"Random forest regressor feature importances\")\n",
    "plt.bar(range(num_features), importances[indices],\n",
    "       color=\"r\", align=\"center\")\n",
    "plt.xticks(range(num_features), indices)\n",
    "plt.xlim([-1, num_features])\n",
    "plt.show()"
   ]
  },
  {
   "cell_type": "code",
   "execution_count": null,
   "metadata": {
    "collapsed": true
   },
   "outputs": [],
   "source": []
  }
 ],
 "metadata": {
  "anaconda-cloud": {},
  "kernelspec": {
   "display_name": "Python [default]",
   "language": "python",
   "name": "python3"
  },
  "language_info": {
   "codemirror_mode": {
    "name": "ipython",
    "version": 3
   },
   "file_extension": ".py",
   "mimetype": "text/x-python",
   "name": "python",
   "nbconvert_exporter": "python",
   "pygments_lexer": "ipython3",
   "version": "3.5.2"
  }
 },
 "nbformat": 4,
 "nbformat_minor": 0
}
