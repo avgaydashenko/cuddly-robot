{
 "cells": [
  {
   "cell_type": "code",
   "execution_count": 1,
   "metadata": {
    "collapsed": false
   },
   "outputs": [],
   "source": [
    "from utils import *\n",
    "%matplotlib inline"
   ]
  },
  {
   "cell_type": "code",
   "execution_count": 2,
   "metadata": {
    "collapsed": true
   },
   "outputs": [],
   "source": [
    "plt.style.use('ggplot')\n",
    "plt.rcParams['figure.figsize'] = (15, 7)"
   ]
  },
  {
   "cell_type": "code",
   "execution_count": 3,
   "metadata": {
    "collapsed": false
   },
   "outputs": [],
   "source": [
    "train_data, train_results, test_data, test_results = read_data()"
   ]
  },
  {
   "cell_type": "code",
   "execution_count": 4,
   "metadata": {
    "collapsed": true
   },
   "outputs": [],
   "source": [
    "file = 'src/Logs/20161212_predicted_coordinates_gradient_boosting_regressor_learning_rate_0.1.npy'\n",
    "gbr_results = np.load(file)"
   ]
  },
  {
   "cell_type": "code",
   "execution_count": null,
   "metadata": {
    "collapsed": true
   },
   "outputs": [],
   "source": [
    "def new_get_most_unpredictable_pedestrians(file, test_results, pedestrian_number):\n",
    "    predicted = np.load(file)\n",
    "    original = np.array(test_results)\n",
    "    dist = distance_for_each_point(predicted, original)\n",
    "    \n",
    "    sum_dist = dist.sum(axis=0) \n",
    "    shuffled_indices = sum_dist.argsort()\n",
    "    indices = shuffled_indices.copy()\n",
    "    indices[::2] = np.minimum(shuffled_indices[::2], shuffled_indices[1::2])\n",
    "    indices[1::2] = np.maximum(shuffled_indices[::2], shuffled_indices[1::2])\n",
    "    \n",
    "    for i in range(pedestrian_number):\n",
    "        if i == 0:\n",
    "            orig_path = original[:, indices[-2:]]\n",
    "            pred_path = predicted[:, indices[-2:]]\n",
    "        else:\n",
    "            orig_path = original[:, indices[-2*(i+1):-2*i]]\n",
    "            pred_path = predicted[:, indices[-2*(i+1):-2*i]]\n",
    "        \n",
    "        pedestrian, first_frame = find_by_path(orig_path)\n",
    "        \n",
    "        df = download_pedestrian(pedestrian)\n",
    "        prev_path = np.array(df.loc[range(first_frame - 5 * 20, first_frame, 20)])\n",
    "        draw_lines(frame_number=first_frame, paths=[prev_path, orig_path, pred_path], colors=['blue', 'green', 'red'],\n",
    "           image_name=\"{ind}_ped{num}_frame{frame}\".format(ind=i+1, num=pedestrian, frame=first_frame), draw_line=False)"
   ]
  },
  {
   "cell_type": "code",
   "execution_count": 5,
   "metadata": {
    "collapsed": false
   },
   "outputs": [],
   "source": [
    "get_most_unpredictable_pedestrians(file, test_results, 10)"
   ]
  },
  {
   "cell_type": "code",
   "execution_count": null,
   "metadata": {
    "collapsed": true
   },
   "outputs": [],
   "source": []
  }
 ],
 "metadata": {
  "anaconda-cloud": {},
  "kernelspec": {
   "display_name": "Python [default]",
   "language": "python",
   "name": "python3"
  },
  "language_info": {
   "codemirror_mode": {
    "name": "ipython",
    "version": 3
   },
   "file_extension": ".py",
   "mimetype": "text/x-python",
   "name": "python",
   "nbconvert_exporter": "python",
   "pygments_lexer": "ipython3",
   "version": "3.5.2"
  }
 },
 "nbformat": 4,
 "nbformat_minor": 0
}
