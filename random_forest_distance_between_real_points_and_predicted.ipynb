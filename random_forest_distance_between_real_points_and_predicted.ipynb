{
 "cells": [
  {
   "cell_type": "markdown",
   "metadata": {},
   "source": [
    "# Predict points via RandomForestRegressor by sklearn"
   ]
  },
  {
   "cell_type": "code",
   "execution_count": 57,
   "metadata": {
    "collapsed": true
   },
   "outputs": [],
   "source": [
    "import numpy as np\n",
    "import pandas as pd\n",
    "import matplotlib.pyplot as plt\n",
    "\n",
    "from time import localtime, strftime\n",
    "\n",
    "%matplotlib inline\n",
    "\n",
    "plt.style.use('ggplot')\n",
    "plt.rcParams['figure.figsize'] = (15, 7)"
   ]
  },
  {
   "cell_type": "code",
   "execution_count": 2,
   "metadata": {
    "collapsed": true
   },
   "outputs": [],
   "source": [
    "from sklearn.ensemble import RandomForestRegressor"
   ]
  },
  {
   "cell_type": "code",
   "execution_count": 56,
   "metadata": {
    "collapsed": true
   },
   "outputs": [],
   "source": [
    "TEST_SAMPLE_NUMBER = 57092\n",
    "TRAIN_SAMPLE_NUMBER = 285998"
   ]
  },
  {
   "cell_type": "code",
   "execution_count": 21,
   "metadata": {
    "collapsed": true
   },
   "outputs": [],
   "source": [
    "# array1: [sX1; sY1; sX2; sY2; ...]\n",
    "# array2: [eX1; eY1; eX2; eY2; ...]\n",
    "# output: [dist((sX1, sY1), (eX1, eY1)), dist((sX1, sY1), (eX1, eY1)),\n",
    "#          dist((sX2, sY2), (eX2, eY2)), dist((sX2, sY2), (eX2, eY2)), ...]\n",
    "\n",
    "def distance_for_each_point(array1, array2):\n",
    "    error_template = \"Array lengths should be equal. len(array1): {len1}, len(array2): {len2}\"\n",
    "    assert (len(array1) == len(array2)), error_template.format(len1=len(array1), len2=len(array2))\n",
    "    \n",
    "    if array1.ndim == 1:\n",
    "        length = len(array1)\n",
    "        # array1[i:i+2] -- point i from first array\n",
    "        # np.linalg.norm -- calculate distance between points\n",
    "        distance = np.array([np.linalg.norm(array1[i:i+2] - array2[i:i+2]) for i in range(0,length,2)])\n",
    "        result = np.array([[d, d] for d in distance]).flatten()\n",
    "    else:\n",
    "        result = np.array([distance_for_each_point(array1[i], array2[i]) for i in range(len(array1))])\n",
    "    \n",
    "    return result"
   ]
  },
  {
   "cell_type": "code",
   "execution_count": 30,
   "metadata": {
    "collapsed": true
   },
   "outputs": [],
   "source": [
    "test_data = pd.read_csv('src/test_data_points.csv', index_col=0)"
   ]
  },
  {
   "cell_type": "code",
   "execution_count": 31,
   "metadata": {
    "collapsed": false
   },
   "outputs": [],
   "source": [
    "train_data = pd.read_csv('src/train_data_points.csv', index_col=0)"
   ]
  },
  {
   "cell_type": "code",
   "execution_count": 32,
   "metadata": {
    "collapsed": true
   },
   "outputs": [],
   "source": [
    "test_results = test_data[5:10]\n",
    "test_data = test_data[:5]\n",
    "\n",
    "train_results = train_data[5:10]\n",
    "train_data = train_data[:5]"
   ]
  },
  {
   "cell_type": "code",
   "execution_count": 15,
   "metadata": {
    "collapsed": true
   },
   "outputs": [],
   "source": [
    "def to_model(df):\n",
    "    return np.array(df).T"
   ]
  },
  {
   "cell_type": "code",
   "execution_count": null,
   "metadata": {
    "collapsed": false
   },
   "outputs": [
    {
     "name": "stdout",
     "output_type": "stream",
     "text": [
      "16: 2016-10-04 00:13:14\n",
      "32: 2016-10-04 00:15:35\n",
      "64: 2016-10-04 00:19:52\n"
     ]
    }
   ],
   "source": [
    "trees_number = np.power(2, range(4, 11))\n",
    "result = []\n",
    "\n",
    "for number_of_trees in trees_number:\n",
    "    print(str(number_of_trees) + \": \" + strftime(\"%Y-%m-%d %H:%M:%S\", localtime()))\n",
    "    est = RandomForestRegressor(n_jobs=-1, n_estimators=number_of_trees)\n",
    "\n",
    "    est.fit(to_model(train_data), to_model(train_results))\n",
    "    predicted_results = est.predict(to_model(test_data))\n",
    "    \n",
    "    np.save(\"src/Logs/161003_predicted_coordinates_rfr_trees_num_{}\".format(number_of_trees), predicted_results)\n",
    "    \n",
    "    result.append(distance_for_each_point(np.array(test_results), predicted_results.T).sum() / TEST_SAMPLE_NUMBER)"
   ]
  },
  {
   "cell_type": "code",
   "execution_count": null,
   "metadata": {
    "collapsed": true
   },
   "outputs": [],
   "source": [
    "ind = trees_number\n",
    "width = 0.3\n",
    "result_bar = plt.bar(ind, result, width, color='g')\n",
    "\n",
    "plt.ylabel('Average difference')\n",
    "plt.xlabel('Number of trees')\n",
    "plt.title('Difference between real points and predicted by number of trees in RFR')\n",
    "plt.xticks(ind + width/2, ind)\n",
    "plt.savefig('src/Plots/161004_rfr_difference_by_trees_number.png')"
   ]
  },
  {
   "cell_type": "code",
   "execution_count": null,
   "metadata": {
    "collapsed": true
   },
   "outputs": [],
   "source": []
  }
 ],
 "metadata": {
  "kernelspec": {
   "display_name": "Python 3",
   "language": "python",
   "name": "python3"
  },
  "language_info": {
   "codemirror_mode": {
    "name": "ipython",
    "version": 3
   },
   "file_extension": ".py",
   "mimetype": "text/x-python",
   "name": "python",
   "nbconvert_exporter": "python",
   "pygments_lexer": "ipython3",
   "version": "3.5.1"
  }
 },
 "nbformat": 4,
 "nbformat_minor": 0
}
